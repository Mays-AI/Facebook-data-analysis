{
 "cells": [
  {
   "cell_type": "code",
   "execution_count": 1,
   "id": "694ba73f",
   "metadata": {},
   "outputs": [],
   "source": [
    "import numpy as np\n",
    "import pandas as pd\n",
    "import matplotlib.pyplot as plt"
   ]
  },
  {
   "cell_type": "markdown",
   "id": "28450f13",
   "metadata": {},
   "source": [
    "import data from: pseudo_facebook.csv"
   ]
  },
  {
   "cell_type": "code",
   "execution_count": 2,
   "id": "1bffc4c9",
   "metadata": {},
   "outputs": [
    {
     "name": "stdout",
     "output_type": "stream",
     "text": [
      "userid,age,dob_day,dob_year,dob_month,gender,tenure,friend_count,friendships_initiated,likes,likes_received,mobile_likes,mobile_likes_received,www_likes,www_likes_received\r\n",
      "2094382,14,19,1999,11,male,266,0,0,0,0,0,0,0,0\r\n",
      "1192601,14,2,1999,11,female,6,0,0,0,0,0,0,0,0\r\n",
      "2083884,14,16,1999,11,male,13,0,0,0,0,0,0,0,0\r\n",
      "1203168,14,25,1999,12,female,93,0,0,0,0,0,0,0,0\r\n",
      "1733186,14,4,1999,12,male,82,0,0,0,0,0,0,0,0\r\n",
      "1524765,14,1,1999,12,male,15,0,0,0,0,0,0,0,0\r\n",
      "1136133,13,14,2000,1,male,12,0,0,0,0,0,0,0,0\r\n",
      "1680361,13,4,2000,1,female,0,0,0,0,0,0,0,0,0\r\n",
      "1365174,13,1,2000,1,male,81,0,0,0,0,0,0,0,0\r\n"
     ]
    }
   ],
   "source": [
    "!head Downloads/facebook.csv"
   ]
  },
  {
   "cell_type": "markdown",
   "id": "e3f44bee",
   "metadata": {},
   "source": [
    "check the date parsing???"
   ]
  },
  {
   "cell_type": "code",
   "execution_count": 3,
   "id": "b05797b8",
   "metadata": {},
   "outputs": [],
   "source": [
    "facebook = pd.read_csv('Downloads/facebook.csv') "
   ]
  },
  {
   "cell_type": "code",
   "execution_count": 4,
   "id": "7402ff16",
   "metadata": {},
   "outputs": [
    {
     "data": {
      "text/html": [
       "<div>\n",
       "<style scoped>\n",
       "    .dataframe tbody tr th:only-of-type {\n",
       "        vertical-align: middle;\n",
       "    }\n",
       "\n",
       "    .dataframe tbody tr th {\n",
       "        vertical-align: top;\n",
       "    }\n",
       "\n",
       "    .dataframe thead th {\n",
       "        text-align: right;\n",
       "    }\n",
       "</style>\n",
       "<table border=\"1\" class=\"dataframe\">\n",
       "  <thead>\n",
       "    <tr style=\"text-align: right;\">\n",
       "      <th></th>\n",
       "      <th>userid</th>\n",
       "      <th>age</th>\n",
       "      <th>dob_day</th>\n",
       "      <th>dob_year</th>\n",
       "      <th>dob_month</th>\n",
       "      <th>gender</th>\n",
       "      <th>tenure</th>\n",
       "      <th>friend_count</th>\n",
       "      <th>friendships_initiated</th>\n",
       "      <th>likes</th>\n",
       "      <th>likes_received</th>\n",
       "      <th>mobile_likes</th>\n",
       "      <th>mobile_likes_received</th>\n",
       "      <th>www_likes</th>\n",
       "      <th>www_likes_received</th>\n",
       "    </tr>\n",
       "  </thead>\n",
       "  <tbody>\n",
       "    <tr>\n",
       "      <th>0</th>\n",
       "      <td>2094382</td>\n",
       "      <td>14</td>\n",
       "      <td>19</td>\n",
       "      <td>1999</td>\n",
       "      <td>11</td>\n",
       "      <td>male</td>\n",
       "      <td>266.0</td>\n",
       "      <td>0</td>\n",
       "      <td>0</td>\n",
       "      <td>0</td>\n",
       "      <td>0</td>\n",
       "      <td>0</td>\n",
       "      <td>0</td>\n",
       "      <td>0</td>\n",
       "      <td>0</td>\n",
       "    </tr>\n",
       "    <tr>\n",
       "      <th>1</th>\n",
       "      <td>1192601</td>\n",
       "      <td>14</td>\n",
       "      <td>2</td>\n",
       "      <td>1999</td>\n",
       "      <td>11</td>\n",
       "      <td>female</td>\n",
       "      <td>6.0</td>\n",
       "      <td>0</td>\n",
       "      <td>0</td>\n",
       "      <td>0</td>\n",
       "      <td>0</td>\n",
       "      <td>0</td>\n",
       "      <td>0</td>\n",
       "      <td>0</td>\n",
       "      <td>0</td>\n",
       "    </tr>\n",
       "    <tr>\n",
       "      <th>2</th>\n",
       "      <td>2083884</td>\n",
       "      <td>14</td>\n",
       "      <td>16</td>\n",
       "      <td>1999</td>\n",
       "      <td>11</td>\n",
       "      <td>male</td>\n",
       "      <td>13.0</td>\n",
       "      <td>0</td>\n",
       "      <td>0</td>\n",
       "      <td>0</td>\n",
       "      <td>0</td>\n",
       "      <td>0</td>\n",
       "      <td>0</td>\n",
       "      <td>0</td>\n",
       "      <td>0</td>\n",
       "    </tr>\n",
       "    <tr>\n",
       "      <th>3</th>\n",
       "      <td>1203168</td>\n",
       "      <td>14</td>\n",
       "      <td>25</td>\n",
       "      <td>1999</td>\n",
       "      <td>12</td>\n",
       "      <td>female</td>\n",
       "      <td>93.0</td>\n",
       "      <td>0</td>\n",
       "      <td>0</td>\n",
       "      <td>0</td>\n",
       "      <td>0</td>\n",
       "      <td>0</td>\n",
       "      <td>0</td>\n",
       "      <td>0</td>\n",
       "      <td>0</td>\n",
       "    </tr>\n",
       "    <tr>\n",
       "      <th>4</th>\n",
       "      <td>1733186</td>\n",
       "      <td>14</td>\n",
       "      <td>4</td>\n",
       "      <td>1999</td>\n",
       "      <td>12</td>\n",
       "      <td>male</td>\n",
       "      <td>82.0</td>\n",
       "      <td>0</td>\n",
       "      <td>0</td>\n",
       "      <td>0</td>\n",
       "      <td>0</td>\n",
       "      <td>0</td>\n",
       "      <td>0</td>\n",
       "      <td>0</td>\n",
       "      <td>0</td>\n",
       "    </tr>\n",
       "  </tbody>\n",
       "</table>\n",
       "</div>"
      ],
      "text/plain": [
       "    userid  age  dob_day  dob_year  dob_month  gender  tenure  friend_count  \\\n",
       "0  2094382   14       19      1999         11    male   266.0             0   \n",
       "1  1192601   14        2      1999         11  female     6.0             0   \n",
       "2  2083884   14       16      1999         11    male    13.0             0   \n",
       "3  1203168   14       25      1999         12  female    93.0             0   \n",
       "4  1733186   14        4      1999         12    male    82.0             0   \n",
       "\n",
       "   friendships_initiated  likes  likes_received  mobile_likes  \\\n",
       "0                      0      0               0             0   \n",
       "1                      0      0               0             0   \n",
       "2                      0      0               0             0   \n",
       "3                      0      0               0             0   \n",
       "4                      0      0               0             0   \n",
       "\n",
       "   mobile_likes_received  www_likes  www_likes_received  \n",
       "0                      0          0                   0  \n",
       "1                      0          0                   0  \n",
       "2                      0          0                   0  \n",
       "3                      0          0                   0  \n",
       "4                      0          0                   0  "
      ]
     },
     "execution_count": 4,
     "metadata": {},
     "output_type": "execute_result"
    }
   ],
   "source": [
    "facebook.head()"
   ]
  },
  {
   "cell_type": "code",
   "execution_count": 5,
   "id": "4c2bb89b",
   "metadata": {},
   "outputs": [
    {
     "data": {
      "text/plain": [
       "(99003, 15)"
      ]
     },
     "execution_count": 5,
     "metadata": {},
     "output_type": "execute_result"
    }
   ],
   "source": [
    "facebook.shape"
   ]
  },
  {
   "cell_type": "code",
   "execution_count": 6,
   "id": "89606f80",
   "metadata": {},
   "outputs": [
    {
     "name": "stdout",
     "output_type": "stream",
     "text": [
      "<class 'pandas.core.frame.DataFrame'>\n",
      "RangeIndex: 99003 entries, 0 to 99002\n",
      "Data columns (total 15 columns):\n",
      " #   Column                 Non-Null Count  Dtype  \n",
      "---  ------                 --------------  -----  \n",
      " 0   userid                 99003 non-null  int64  \n",
      " 1   age                    99003 non-null  int64  \n",
      " 2   dob_day                99003 non-null  int64  \n",
      " 3   dob_year               99003 non-null  int64  \n",
      " 4   dob_month              99003 non-null  int64  \n",
      " 5   gender                 98828 non-null  object \n",
      " 6   tenure                 99001 non-null  float64\n",
      " 7   friend_count           99003 non-null  int64  \n",
      " 8   friendships_initiated  99003 non-null  int64  \n",
      " 9   likes                  99003 non-null  int64  \n",
      " 10  likes_received         99003 non-null  int64  \n",
      " 11  mobile_likes           99003 non-null  int64  \n",
      " 12  mobile_likes_received  99003 non-null  int64  \n",
      " 13  www_likes              99003 non-null  int64  \n",
      " 14  www_likes_received     99003 non-null  int64  \n",
      "dtypes: float64(1), int64(13), object(1)\n",
      "memory usage: 11.3+ MB\n"
     ]
    }
   ],
   "source": [
    "facebook.info()"
   ]
  },
  {
   "cell_type": "code",
   "execution_count": 7,
   "id": "a1d017ca",
   "metadata": {},
   "outputs": [
    {
     "data": {
      "text/html": [
       "<div>\n",
       "<style scoped>\n",
       "    .dataframe tbody tr th:only-of-type {\n",
       "        vertical-align: middle;\n",
       "    }\n",
       "\n",
       "    .dataframe tbody tr th {\n",
       "        vertical-align: top;\n",
       "    }\n",
       "\n",
       "    .dataframe thead th {\n",
       "        text-align: right;\n",
       "    }\n",
       "</style>\n",
       "<table border=\"1\" class=\"dataframe\">\n",
       "  <thead>\n",
       "    <tr style=\"text-align: right;\">\n",
       "      <th></th>\n",
       "      <th>userid</th>\n",
       "      <th>age</th>\n",
       "      <th>dob_day</th>\n",
       "      <th>dob_year</th>\n",
       "      <th>dob_month</th>\n",
       "      <th>tenure</th>\n",
       "      <th>friend_count</th>\n",
       "      <th>friendships_initiated</th>\n",
       "      <th>likes</th>\n",
       "      <th>likes_received</th>\n",
       "      <th>mobile_likes</th>\n",
       "      <th>mobile_likes_received</th>\n",
       "      <th>www_likes</th>\n",
       "      <th>www_likes_received</th>\n",
       "    </tr>\n",
       "  </thead>\n",
       "  <tbody>\n",
       "    <tr>\n",
       "      <th>count</th>\n",
       "      <td>9.900300e+04</td>\n",
       "      <td>99003.000000</td>\n",
       "      <td>99003.000000</td>\n",
       "      <td>99003.000000</td>\n",
       "      <td>99003.000000</td>\n",
       "      <td>99001.000000</td>\n",
       "      <td>99003.000000</td>\n",
       "      <td>99003.000000</td>\n",
       "      <td>99003.000000</td>\n",
       "      <td>99003.000000</td>\n",
       "      <td>99003.000000</td>\n",
       "      <td>99003.000000</td>\n",
       "      <td>99003.000000</td>\n",
       "      <td>99003.000000</td>\n",
       "    </tr>\n",
       "    <tr>\n",
       "      <th>mean</th>\n",
       "      <td>1.597045e+06</td>\n",
       "      <td>37.280224</td>\n",
       "      <td>14.530408</td>\n",
       "      <td>1975.719776</td>\n",
       "      <td>6.283365</td>\n",
       "      <td>537.887375</td>\n",
       "      <td>196.350787</td>\n",
       "      <td>107.452471</td>\n",
       "      <td>156.078785</td>\n",
       "      <td>142.689363</td>\n",
       "      <td>106.116300</td>\n",
       "      <td>84.120491</td>\n",
       "      <td>49.962425</td>\n",
       "      <td>58.568831</td>\n",
       "    </tr>\n",
       "    <tr>\n",
       "      <th>std</th>\n",
       "      <td>3.440592e+05</td>\n",
       "      <td>22.589748</td>\n",
       "      <td>9.015606</td>\n",
       "      <td>22.589748</td>\n",
       "      <td>3.529672</td>\n",
       "      <td>457.649874</td>\n",
       "      <td>387.304229</td>\n",
       "      <td>188.786951</td>\n",
       "      <td>572.280681</td>\n",
       "      <td>1387.919613</td>\n",
       "      <td>445.252985</td>\n",
       "      <td>839.889444</td>\n",
       "      <td>285.560152</td>\n",
       "      <td>601.416348</td>\n",
       "    </tr>\n",
       "    <tr>\n",
       "      <th>min</th>\n",
       "      <td>1.000008e+06</td>\n",
       "      <td>13.000000</td>\n",
       "      <td>1.000000</td>\n",
       "      <td>1900.000000</td>\n",
       "      <td>1.000000</td>\n",
       "      <td>0.000000</td>\n",
       "      <td>0.000000</td>\n",
       "      <td>0.000000</td>\n",
       "      <td>0.000000</td>\n",
       "      <td>0.000000</td>\n",
       "      <td>0.000000</td>\n",
       "      <td>0.000000</td>\n",
       "      <td>0.000000</td>\n",
       "      <td>0.000000</td>\n",
       "    </tr>\n",
       "    <tr>\n",
       "      <th>25%</th>\n",
       "      <td>1.298806e+06</td>\n",
       "      <td>20.000000</td>\n",
       "      <td>7.000000</td>\n",
       "      <td>1963.000000</td>\n",
       "      <td>3.000000</td>\n",
       "      <td>226.000000</td>\n",
       "      <td>31.000000</td>\n",
       "      <td>17.000000</td>\n",
       "      <td>1.000000</td>\n",
       "      <td>1.000000</td>\n",
       "      <td>0.000000</td>\n",
       "      <td>0.000000</td>\n",
       "      <td>0.000000</td>\n",
       "      <td>0.000000</td>\n",
       "    </tr>\n",
       "    <tr>\n",
       "      <th>50%</th>\n",
       "      <td>1.596148e+06</td>\n",
       "      <td>28.000000</td>\n",
       "      <td>14.000000</td>\n",
       "      <td>1985.000000</td>\n",
       "      <td>6.000000</td>\n",
       "      <td>412.000000</td>\n",
       "      <td>82.000000</td>\n",
       "      <td>46.000000</td>\n",
       "      <td>11.000000</td>\n",
       "      <td>8.000000</td>\n",
       "      <td>4.000000</td>\n",
       "      <td>4.000000</td>\n",
       "      <td>0.000000</td>\n",
       "      <td>2.000000</td>\n",
       "    </tr>\n",
       "    <tr>\n",
       "      <th>75%</th>\n",
       "      <td>1.895744e+06</td>\n",
       "      <td>50.000000</td>\n",
       "      <td>22.000000</td>\n",
       "      <td>1993.000000</td>\n",
       "      <td>9.000000</td>\n",
       "      <td>675.000000</td>\n",
       "      <td>206.000000</td>\n",
       "      <td>117.000000</td>\n",
       "      <td>81.000000</td>\n",
       "      <td>59.000000</td>\n",
       "      <td>46.000000</td>\n",
       "      <td>33.000000</td>\n",
       "      <td>7.000000</td>\n",
       "      <td>20.000000</td>\n",
       "    </tr>\n",
       "    <tr>\n",
       "      <th>max</th>\n",
       "      <td>2.193542e+06</td>\n",
       "      <td>113.000000</td>\n",
       "      <td>31.000000</td>\n",
       "      <td>2000.000000</td>\n",
       "      <td>12.000000</td>\n",
       "      <td>3139.000000</td>\n",
       "      <td>4923.000000</td>\n",
       "      <td>4144.000000</td>\n",
       "      <td>25111.000000</td>\n",
       "      <td>261197.000000</td>\n",
       "      <td>25111.000000</td>\n",
       "      <td>138561.000000</td>\n",
       "      <td>14865.000000</td>\n",
       "      <td>129953.000000</td>\n",
       "    </tr>\n",
       "  </tbody>\n",
       "</table>\n",
       "</div>"
      ],
      "text/plain": [
       "             userid           age       dob_day      dob_year     dob_month  \\\n",
       "count  9.900300e+04  99003.000000  99003.000000  99003.000000  99003.000000   \n",
       "mean   1.597045e+06     37.280224     14.530408   1975.719776      6.283365   \n",
       "std    3.440592e+05     22.589748      9.015606     22.589748      3.529672   \n",
       "min    1.000008e+06     13.000000      1.000000   1900.000000      1.000000   \n",
       "25%    1.298806e+06     20.000000      7.000000   1963.000000      3.000000   \n",
       "50%    1.596148e+06     28.000000     14.000000   1985.000000      6.000000   \n",
       "75%    1.895744e+06     50.000000     22.000000   1993.000000      9.000000   \n",
       "max    2.193542e+06    113.000000     31.000000   2000.000000     12.000000   \n",
       "\n",
       "             tenure  friend_count  friendships_initiated         likes  \\\n",
       "count  99001.000000  99003.000000           99003.000000  99003.000000   \n",
       "mean     537.887375    196.350787             107.452471    156.078785   \n",
       "std      457.649874    387.304229             188.786951    572.280681   \n",
       "min        0.000000      0.000000               0.000000      0.000000   \n",
       "25%      226.000000     31.000000              17.000000      1.000000   \n",
       "50%      412.000000     82.000000              46.000000     11.000000   \n",
       "75%      675.000000    206.000000             117.000000     81.000000   \n",
       "max     3139.000000   4923.000000            4144.000000  25111.000000   \n",
       "\n",
       "       likes_received  mobile_likes  mobile_likes_received     www_likes  \\\n",
       "count    99003.000000  99003.000000           99003.000000  99003.000000   \n",
       "mean       142.689363    106.116300              84.120491     49.962425   \n",
       "std       1387.919613    445.252985             839.889444    285.560152   \n",
       "min          0.000000      0.000000               0.000000      0.000000   \n",
       "25%          1.000000      0.000000               0.000000      0.000000   \n",
       "50%          8.000000      4.000000               4.000000      0.000000   \n",
       "75%         59.000000     46.000000              33.000000      7.000000   \n",
       "max     261197.000000  25111.000000          138561.000000  14865.000000   \n",
       "\n",
       "       www_likes_received  \n",
       "count        99003.000000  \n",
       "mean            58.568831  \n",
       "std            601.416348  \n",
       "min              0.000000  \n",
       "25%              0.000000  \n",
       "50%              2.000000  \n",
       "75%             20.000000  \n",
       "max         129953.000000  "
      ]
     },
     "execution_count": 7,
     "metadata": {},
     "output_type": "execute_result"
    }
   ],
   "source": [
    "facebook.describe()"
   ]
  },
  {
   "cell_type": "code",
   "execution_count": 8,
   "id": "e62caf42",
   "metadata": {},
   "outputs": [
    {
     "data": {
      "text/plain": [
       "count    99003.000000\n",
       "mean        37.280224\n",
       "std         22.589748\n",
       "min         13.000000\n",
       "25%         20.000000\n",
       "50%         28.000000\n",
       "75%         50.000000\n",
       "max        113.000000\n",
       "Name: age, dtype: float64"
      ]
     },
     "execution_count": 8,
     "metadata": {},
     "output_type": "execute_result"
    }
   ],
   "source": [
    "facebook['age'].describe()"
   ]
  },
  {
   "cell_type": "code",
   "execution_count": 9,
   "id": "8fe65a03",
   "metadata": {},
   "outputs": [
    {
     "data": {
      "text/plain": [
       "37.28022383160106"
      ]
     },
     "execution_count": 9,
     "metadata": {},
     "output_type": "execute_result"
    }
   ],
   "source": [
    "facebook['age'].mean()"
   ]
  },
  {
   "cell_type": "code",
   "execution_count": 10,
   "id": "8baaadee",
   "metadata": {},
   "outputs": [
    {
     "data": {
      "text/plain": [
       "28.0"
      ]
     },
     "execution_count": 10,
     "metadata": {},
     "output_type": "execute_result"
    }
   ],
   "source": [
    "facebook['age'].median()"
   ]
  },
  {
   "cell_type": "code",
   "execution_count": 11,
   "id": "57e46fab",
   "metadata": {},
   "outputs": [
    {
     "data": {
      "text/plain": [
       "<AxesSubplot:>"
      ]
     },
     "execution_count": 11,
     "metadata": {},
     "output_type": "execute_result"
    },
    {
     "data": {
      "image/png": "[encoded data removed]",
      "text/plain": [
       "<Figure size 1008x432 with 1 Axes>"
      ]
     },
     "metadata": {
      "needs_background": "light"
     },
     "output_type": "display_data"
    }
   ],
   "source": [
    "facebook['age'].plot(kind='box', vert= False, figsize=(14,6) ) #represent the mean, median and the outliers"
   ]
  },
  {
   "cell_type": "markdown",
   "id": "4f99e438",
   "metadata": {},
   "source": [
    "the black point are the outliers so the facebook users who are above 95 consideres as outlioers "
   ]
  },
  {
   "cell_type": "code",
   "execution_count": 12,
   "id": "1521bee4",
   "metadata": {},
   "outputs": [
    {
     "data": {
      "text/plain": [
       "<AxesSubplot:ylabel='Density'>"
      ]
     },
     "execution_count": 12,
     "metadata": {},
     "output_type": "execute_result"
    },
    {
     "data": {
      "image/png": "[encoded data removed]",
      "text/plain": [
       "<Figure size 1008x432 with 1 Axes>"
      ]
     },
     "metadata": {
      "needs_background": "light"
     },
     "output_type": "display_data"
    }
   ],
   "source": [
    "facebook['age'].plot(kind='density', figsize=(14,6)) #density plot"
   ]
  },
  {
   "cell_type": "code",
   "execution_count": 13,
   "id": "5346735e",
   "metadata": {},
   "outputs": [
    {
     "data": {
      "text/plain": [
       "<matplotlib.lines.Line2D at 0x13f5f69a0>"
      ]
     },
     "execution_count": 13,
     "metadata": {},
     "output_type": "execute_result"
    },
    {
     "data": {
      "image/png": "[encoded data removed]",
      "text/plain": [
       "<Figure size 1008x432 with 1 Axes>"
      ]
     },
     "metadata": {
      "needs_background": "light"
     },
     "output_type": "display_data"
    }
   ],
   "source": [
    "ax = facebook['age'].plot(kind='density', figsize=(14,6)) #density plot\n",
    "ax.axvline(facebook['age'].mean(), color='red')\n",
    "ax.axvline(facebook['age'].median(), color='green')"
   ]
  },
  {
   "cell_type": "code",
   "execution_count": 14,
   "id": "f97cba77",
   "metadata": {},
   "outputs": [
    {
     "data": {
      "text/plain": [
       "18     5196\n",
       "23     4404\n",
       "19     4391\n",
       "20     3769\n",
       "21     3671\n",
       "       ... \n",
       "87       42\n",
       "112      18\n",
       "111      18\n",
       "110      15\n",
       "109       9\n",
       "Name: age, Length: 101, dtype: int64"
      ]
     },
     "execution_count": 14,
     "metadata": {},
     "output_type": "execute_result"
    }
   ],
   "source": [
    "facebook['age'].value_counts()"
   ]
  },
  {
   "cell_type": "code",
   "execution_count": 15,
   "id": "cd485c57",
   "metadata": {},
   "outputs": [
    {
     "data": {
      "text/plain": [
       "<AxesSubplot:ylabel='age'>"
      ]
     },
     "execution_count": 15,
     "metadata": {},
     "output_type": "execute_result"
    },
    {
     "data": {
      "image/png": "[encoded data removed]",
      "text/plain": [
       "<Figure size 432x432 with 1 Axes>"
      ]
     },
     "metadata": {},
     "output_type": "display_data"
    }
   ],
   "source": [
    "facebook['age'].value_counts().plot(kind='pie', figsize=(6,6))"
   ]
  },
  {
   "cell_type": "markdown",
   "id": "0bf3e321",
   "metadata": {},
   "source": [
    "correlation analysis: relationship between the column\n",
    "1- between ± 0.50 and ± 1, then it is said to be a strong correlation, \n",
    "2- If the value lies between ± 0.30 and ± 0.49, a medium correlation. \n",
    "3- Low degree: + . 29, then it is said to be a small correlation."
   ]
  },
  {
   "cell_type": "code",
   "execution_count": 16,
   "id": "00d02e2d",
   "metadata": {},
   "outputs": [
    {
     "data": {
      "text/html": [
       "<div>\n",
       "<style scoped>\n",
       "    .dataframe tbody tr th:only-of-type {\n",
       "        vertical-align: middle;\n",
       "    }\n",
       "\n",
       "    .dataframe tbody tr th {\n",
       "        vertical-align: top;\n",
       "    }\n",
       "\n",
       "    .dataframe thead th {\n",
       "        text-align: right;\n",
       "    }\n",
       "</style>\n",
       "<table border=\"1\" class=\"dataframe\">\n",
       "  <thead>\n",
       "    <tr style=\"text-align: right;\">\n",
       "      <th></th>\n",
       "      <th>userid</th>\n",
       "      <th>age</th>\n",
       "      <th>dob_day</th>\n",
       "      <th>dob_year</th>\n",
       "      <th>dob_month</th>\n",
       "      <th>tenure</th>\n",
       "      <th>friend_count</th>\n",
       "      <th>friendships_initiated</th>\n",
       "      <th>likes</th>\n",
       "      <th>likes_received</th>\n",
       "      <th>mobile_likes</th>\n",
       "      <th>mobile_likes_received</th>\n",
       "      <th>www_likes</th>\n",
       "      <th>www_likes_received</th>\n",
       "    </tr>\n",
       "  </thead>\n",
       "  <tbody>\n",
       "    <tr>\n",
       "      <th>userid</th>\n",
       "      <td>1.000000</td>\n",
       "      <td>-0.007265</td>\n",
       "      <td>-0.000839</td>\n",
       "      <td>0.007265</td>\n",
       "      <td>0.002924</td>\n",
       "      <td>-0.003446</td>\n",
       "      <td>-0.001314</td>\n",
       "      <td>-0.001591</td>\n",
       "      <td>-0.002875</td>\n",
       "      <td>0.001526</td>\n",
       "      <td>-0.004868</td>\n",
       "      <td>0.001753</td>\n",
       "      <td>0.001828</td>\n",
       "      <td>0.001074</td>\n",
       "    </tr>\n",
       "    <tr>\n",
       "      <th>age</th>\n",
       "      <td>-0.007265</td>\n",
       "      <td>1.000000</td>\n",
       "      <td>0.035035</td>\n",
       "      <td>-1.000000</td>\n",
       "      <td>0.025167</td>\n",
       "      <td>0.462742</td>\n",
       "      <td>-0.027407</td>\n",
       "      <td>-0.058059</td>\n",
       "      <td>-0.013009</td>\n",
       "      <td>-0.022570</td>\n",
       "      <td>-0.026715</td>\n",
       "      <td>-0.024248</td>\n",
       "      <td>0.015585</td>\n",
       "      <td>-0.018224</td>\n",
       "    </tr>\n",
       "    <tr>\n",
       "      <th>dob_day</th>\n",
       "      <td>-0.000839</td>\n",
       "      <td>0.035035</td>\n",
       "      <td>1.000000</td>\n",
       "      <td>-0.035035</td>\n",
       "      <td>0.129443</td>\n",
       "      <td>0.041855</td>\n",
       "      <td>0.021961</td>\n",
       "      <td>0.022999</td>\n",
       "      <td>0.015980</td>\n",
       "      <td>0.001367</td>\n",
       "      <td>0.014541</td>\n",
       "      <td>0.000497</td>\n",
       "      <td>0.009353</td>\n",
       "      <td>0.002460</td>\n",
       "    </tr>\n",
       "    <tr>\n",
       "      <th>dob_year</th>\n",
       "      <td>0.007265</td>\n",
       "      <td>-1.000000</td>\n",
       "      <td>-0.035035</td>\n",
       "      <td>1.000000</td>\n",
       "      <td>-0.025167</td>\n",
       "      <td>-0.462742</td>\n",
       "      <td>0.027407</td>\n",
       "      <td>0.058059</td>\n",
       "      <td>0.013009</td>\n",
       "      <td>0.022570</td>\n",
       "      <td>0.026715</td>\n",
       "      <td>0.024248</td>\n",
       "      <td>-0.015585</td>\n",
       "      <td>0.018224</td>\n",
       "    </tr>\n",
       "    <tr>\n",
       "      <th>dob_month</th>\n",
       "      <td>0.002924</td>\n",
       "      <td>0.025167</td>\n",
       "      <td>0.129443</td>\n",
       "      <td>-0.025167</td>\n",
       "      <td>1.000000</td>\n",
       "      <td>0.029446</td>\n",
       "      <td>0.019804</td>\n",
       "      <td>0.020075</td>\n",
       "      <td>0.014147</td>\n",
       "      <td>0.006495</td>\n",
       "      <td>0.010400</td>\n",
       "      <td>0.006435</td>\n",
       "      <td>0.012136</td>\n",
       "      <td>0.006003</td>\n",
       "    </tr>\n",
       "    <tr>\n",
       "      <th>tenure</th>\n",
       "      <td>-0.003446</td>\n",
       "      <td>0.462742</td>\n",
       "      <td>0.041855</td>\n",
       "      <td>-0.462742</td>\n",
       "      <td>0.029446</td>\n",
       "      <td>1.000000</td>\n",
       "      <td>0.166256</td>\n",
       "      <td>0.133505</td>\n",
       "      <td>0.057132</td>\n",
       "      <td>0.027745</td>\n",
       "      <td>0.028052</td>\n",
       "      <td>0.023971</td>\n",
       "      <td>0.070757</td>\n",
       "      <td>0.030553</td>\n",
       "    </tr>\n",
       "    <tr>\n",
       "      <th>friend_count</th>\n",
       "      <td>-0.001314</td>\n",
       "      <td>-0.027407</td>\n",
       "      <td>0.021961</td>\n",
       "      <td>0.027407</td>\n",
       "      <td>0.019804</td>\n",
       "      <td>0.166256</td>\n",
       "      <td>1.000000</td>\n",
       "      <td>0.825850</td>\n",
       "      <td>0.298017</td>\n",
       "      <td>0.236463</td>\n",
       "      <td>0.235656</td>\n",
       "      <td>0.232701</td>\n",
       "      <td>0.229803</td>\n",
       "      <td>0.220727</td>\n",
       "    </tr>\n",
       "    <tr>\n",
       "      <th>friendships_initiated</th>\n",
       "      <td>-0.001591</td>\n",
       "      <td>-0.058059</td>\n",
       "      <td>0.022999</td>\n",
       "      <td>0.058059</td>\n",
       "      <td>0.020075</td>\n",
       "      <td>0.133505</td>\n",
       "      <td>0.825850</td>\n",
       "      <td>1.000000</td>\n",
       "      <td>0.285592</td>\n",
       "      <td>0.175131</td>\n",
       "      <td>0.229808</td>\n",
       "      <td>0.173804</td>\n",
       "      <td>0.214022</td>\n",
       "      <td>0.161439</td>\n",
       "    </tr>\n",
       "    <tr>\n",
       "      <th>likes</th>\n",
       "      <td>-0.002875</td>\n",
       "      <td>-0.013009</td>\n",
       "      <td>0.015980</td>\n",
       "      <td>0.013009</td>\n",
       "      <td>0.014147</td>\n",
       "      <td>0.057132</td>\n",
       "      <td>0.298017</td>\n",
       "      <td>0.285592</td>\n",
       "      <td>1.000000</td>\n",
       "      <td>0.327376</td>\n",
       "      <td>0.871652</td>\n",
       "      <td>0.329258</td>\n",
       "      <td>0.644960</td>\n",
       "      <td>0.295687</td>\n",
       "    </tr>\n",
       "    <tr>\n",
       "      <th>likes_received</th>\n",
       "      <td>0.001526</td>\n",
       "      <td>-0.022570</td>\n",
       "      <td>0.001367</td>\n",
       "      <td>0.022570</td>\n",
       "      <td>0.006495</td>\n",
       "      <td>0.027745</td>\n",
       "      <td>0.236463</td>\n",
       "      <td>0.175131</td>\n",
       "      <td>0.327376</td>\n",
       "      <td>1.000000</td>\n",
       "      <td>0.256998</td>\n",
       "      <td>0.973679</td>\n",
       "      <td>0.255365</td>\n",
       "      <td>0.947990</td>\n",
       "    </tr>\n",
       "    <tr>\n",
       "      <th>mobile_likes</th>\n",
       "      <td>-0.004868</td>\n",
       "      <td>-0.026715</td>\n",
       "      <td>0.014541</td>\n",
       "      <td>0.026715</td>\n",
       "      <td>0.010400</td>\n",
       "      <td>0.028052</td>\n",
       "      <td>0.235656</td>\n",
       "      <td>0.229808</td>\n",
       "      <td>0.871652</td>\n",
       "      <td>0.256998</td>\n",
       "      <td>1.000000</td>\n",
       "      <td>0.288513</td>\n",
       "      <td>0.187619</td>\n",
       "      <td>0.190173</td>\n",
       "    </tr>\n",
       "    <tr>\n",
       "      <th>mobile_likes_received</th>\n",
       "      <td>0.001753</td>\n",
       "      <td>-0.024248</td>\n",
       "      <td>0.000497</td>\n",
       "      <td>0.024248</td>\n",
       "      <td>0.006435</td>\n",
       "      <td>0.023971</td>\n",
       "      <td>0.232701</td>\n",
       "      <td>0.173804</td>\n",
       "      <td>0.329258</td>\n",
       "      <td>0.973679</td>\n",
       "      <td>0.288513</td>\n",
       "      <td>1.000000</td>\n",
       "      <td>0.209997</td>\n",
       "      <td>0.850490</td>\n",
       "    </tr>\n",
       "    <tr>\n",
       "      <th>www_likes</th>\n",
       "      <td>0.001828</td>\n",
       "      <td>0.015585</td>\n",
       "      <td>0.009353</td>\n",
       "      <td>-0.015585</td>\n",
       "      <td>0.012136</td>\n",
       "      <td>0.070757</td>\n",
       "      <td>0.229803</td>\n",
       "      <td>0.214022</td>\n",
       "      <td>0.644960</td>\n",
       "      <td>0.255365</td>\n",
       "      <td>0.187619</td>\n",
       "      <td>0.209997</td>\n",
       "      <td>1.000000</td>\n",
       "      <td>0.296053</td>\n",
       "    </tr>\n",
       "    <tr>\n",
       "      <th>www_likes_received</th>\n",
       "      <td>0.001074</td>\n",
       "      <td>-0.018224</td>\n",
       "      <td>0.002460</td>\n",
       "      <td>0.018224</td>\n",
       "      <td>0.006003</td>\n",
       "      <td>0.030553</td>\n",
       "      <td>0.220727</td>\n",
       "      <td>0.161439</td>\n",
       "      <td>0.295687</td>\n",
       "      <td>0.947990</td>\n",
       "      <td>0.190173</td>\n",
       "      <td>0.850490</td>\n",
       "      <td>0.296053</td>\n",
       "      <td>1.000000</td>\n",
       "    </tr>\n",
       "  </tbody>\n",
       "</table>\n",
       "</div>"
      ],
      "text/plain": [
       "                         userid       age   dob_day  dob_year  dob_month  \\\n",
       "userid                 1.000000 -0.007265 -0.000839  0.007265   0.002924   \n",
       "age                   -0.007265  1.000000  0.035035 -1.000000   0.025167   \n",
       "dob_day               -0.000839  0.035035  1.000000 -0.035035   0.129443   \n",
       "dob_year               0.007265 -1.000000 -0.035035  1.000000  -0.025167   \n",
       "dob_month              0.002924  0.025167  0.129443 -0.025167   1.000000   \n",
       "tenure                -0.003446  0.462742  0.041855 -0.462742   0.029446   \n",
       "friend_count          -0.001314 -0.027407  0.021961  0.027407   0.019804   \n",
       "friendships_initiated -0.001591 -0.058059  0.022999  0.058059   0.020075   \n",
       "likes                 -0.002875 -0.013009  0.015980  0.013009   0.014147   \n",
       "likes_received         0.001526 -0.022570  0.001367  0.022570   0.006495   \n",
       "mobile_likes          -0.004868 -0.026715  0.014541  0.026715   0.010400   \n",
       "mobile_likes_received  0.001753 -0.024248  0.000497  0.024248   0.006435   \n",
       "www_likes              0.001828  0.015585  0.009353 -0.015585   0.012136   \n",
       "www_likes_received     0.001074 -0.018224  0.002460  0.018224   0.006003   \n",
       "\n",
       "                         tenure  friend_count  friendships_initiated  \\\n",
       "userid                -0.003446     -0.001314              -0.001591   \n",
       "age                    0.462742     -0.027407              -0.058059   \n",
       "dob_day                0.041855      0.021961               0.022999   \n",
       "dob_year              -0.462742      0.027407               0.058059   \n",
       "dob_month              0.029446      0.019804               0.020075   \n",
       "tenure                 1.000000      0.166256               0.133505   \n",
       "friend_count           0.166256      1.000000               0.825850   \n",
       "friendships_initiated  0.133505      0.825850               1.000000   \n",
       "likes                  0.057132      0.298017               0.285592   \n",
       "likes_received         0.027745      0.236463               0.175131   \n",
       "mobile_likes           0.028052      0.235656               0.229808   \n",
       "mobile_likes_received  0.023971      0.232701               0.173804   \n",
       "www_likes              0.070757      0.229803               0.214022   \n",
       "www_likes_received     0.030553      0.220727               0.161439   \n",
       "\n",
       "                          likes  likes_received  mobile_likes  \\\n",
       "userid                -0.002875        0.001526     -0.004868   \n",
       "age                   -0.013009       -0.022570     -0.026715   \n",
       "dob_day                0.015980        0.001367      0.014541   \n",
       "dob_year               0.013009        0.022570      0.026715   \n",
       "dob_month              0.014147        0.006495      0.010400   \n",
       "tenure                 0.057132        0.027745      0.028052   \n",
       "friend_count           0.298017        0.236463      0.235656   \n",
       "friendships_initiated  0.285592        0.175131      0.229808   \n",
       "likes                  1.000000        0.327376      0.871652   \n",
       "likes_received         0.327376        1.000000      0.256998   \n",
       "mobile_likes           0.871652        0.256998      1.000000   \n",
       "mobile_likes_received  0.329258        0.973679      0.288513   \n",
       "www_likes              0.644960        0.255365      0.187619   \n",
       "www_likes_received     0.295687        0.947990      0.190173   \n",
       "\n",
       "                       mobile_likes_received  www_likes  www_likes_received  \n",
       "userid                              0.001753   0.001828            0.001074  \n",
       "age                                -0.024248   0.015585           -0.018224  \n",
       "dob_day                             0.000497   0.009353            0.002460  \n",
       "dob_year                            0.024248  -0.015585            0.018224  \n",
       "dob_month                           0.006435   0.012136            0.006003  \n",
       "tenure                              0.023971   0.070757            0.030553  \n",
       "friend_count                        0.232701   0.229803            0.220727  \n",
       "friendships_initiated               0.173804   0.214022            0.161439  \n",
       "likes                               0.329258   0.644960            0.295687  \n",
       "likes_received                      0.973679   0.255365            0.947990  \n",
       "mobile_likes                        0.288513   0.187619            0.190173  \n",
       "mobile_likes_received               1.000000   0.209997            0.850490  \n",
       "www_likes                           0.209997   1.000000            0.296053  \n",
       "www_likes_received                  0.850490   0.296053            1.000000  "
      ]
     },
     "execution_count": 16,
     "metadata": {},
     "output_type": "execute_result"
    }
   ],
   "source": [
    "corr = facebook.corr() \n",
    "corr"
   ]
  },
  {
   "cell_type": "code",
   "execution_count": 17,
   "id": "a8e5bb69",
   "metadata": {},
   "outputs": [
    {
     "data": {
      "image/png": "[encoded data removed]",
      "text/plain": [
       "<Figure size 576x576 with 1 Axes>"
      ]
     },
     "metadata": {
      "needs_background": "light"
     },
     "output_type": "display_data"
    }
   ],
   "source": [
    "fig = plt.figure(figsize=(8,8))\n",
    "plt.matshow(corr, cmap='RdBu',fignum=fig.number)\n",
    "plt.xticks(range(len(corr.columns)), corr.columns, rotation='vertical');\n",
    "plt.yticks(range(len(corr.columns)), corr.columns);\n",
    "#the diagnol, which is blue, the corrlation=1, "
   ]
  },
  {
   "cell_type": "code",
   "execution_count": 18,
   "id": "6bdbf019",
   "metadata": {},
   "outputs": [
    {
     "data": {
      "text/plain": [
       "<AxesSubplot:xlabel='age', ylabel='likes_received'>"
      ]
     },
     "execution_count": 18,
     "metadata": {},
     "output_type": "execute_result"
    },
    {
     "data": {
      "image/png": "[encoded data removed]",
      "text/plain": [
       "<Figure size 432x432 with 1 Axes>"
      ]
     },
     "metadata": {
      "needs_background": "light"
     },
     "output_type": "display_data"
    }
   ],
   "source": [
    "facebook.plot(kind='scatter', x='age', y='likes_received', figsize=(6,6))\n"
   ]
  },
  {
   "cell_type": "markdown",
   "id": "361a3fc8",
   "metadata": {},
   "source": [
    "# Add and calculate new column:"
   ]
  },
  {
   "cell_type": "code",
   "execution_count": 19,
   "id": "309a6830",
   "metadata": {},
   "outputs": [
    {
     "data": {
      "text/plain": [
       "0            0\n",
       "1            0\n",
       "2            0\n",
       "3            0\n",
       "4            0\n",
       "         ...  \n",
       "98998    22085\n",
       "98999    17813\n",
       "99000    24513\n",
       "99001    11022\n",
       "99002    21853\n",
       "Name: calculated_likes, Length: 99003, dtype: int64"
      ]
     },
     "execution_count": 19,
     "metadata": {},
     "output_type": "execute_result"
    }
   ],
   "source": [
    "facebook['calculated_likes']= facebook['likes']+facebook['likes_received'] #create and add calculated likes column\n",
    "facebook['calculated_likes']"
   ]
  },
  {
   "cell_type": "code",
   "execution_count": 20,
   "id": "1d6ed1ba",
   "metadata": {},
   "outputs": [
    {
     "data": {
      "text/html": [
       "<div>\n",
       "<style scoped>\n",
       "    .dataframe tbody tr th:only-of-type {\n",
       "        vertical-align: middle;\n",
       "    }\n",
       "\n",
       "    .dataframe tbody tr th {\n",
       "        vertical-align: top;\n",
       "    }\n",
       "\n",
       "    .dataframe thead th {\n",
       "        text-align: right;\n",
       "    }\n",
       "</style>\n",
       "<table border=\"1\" class=\"dataframe\">\n",
       "  <thead>\n",
       "    <tr style=\"text-align: right;\">\n",
       "      <th></th>\n",
       "      <th>userid</th>\n",
       "      <th>age</th>\n",
       "      <th>dob_day</th>\n",
       "      <th>dob_year</th>\n",
       "      <th>dob_month</th>\n",
       "      <th>gender</th>\n",
       "      <th>tenure</th>\n",
       "      <th>friend_count</th>\n",
       "      <th>friendships_initiated</th>\n",
       "      <th>likes</th>\n",
       "      <th>likes_received</th>\n",
       "      <th>mobile_likes</th>\n",
       "      <th>mobile_likes_received</th>\n",
       "      <th>www_likes</th>\n",
       "      <th>www_likes_received</th>\n",
       "      <th>calculated_likes</th>\n",
       "    </tr>\n",
       "  </thead>\n",
       "  <tbody>\n",
       "    <tr>\n",
       "      <th>0</th>\n",
       "      <td>2094382</td>\n",
       "      <td>14</td>\n",
       "      <td>19</td>\n",
       "      <td>1999</td>\n",
       "      <td>11</td>\n",
       "      <td>male</td>\n",
       "      <td>266.0</td>\n",
       "      <td>0</td>\n",
       "      <td>0</td>\n",
       "      <td>0</td>\n",
       "      <td>0</td>\n",
       "      <td>0</td>\n",
       "      <td>0</td>\n",
       "      <td>0</td>\n",
       "      <td>0</td>\n",
       "      <td>0</td>\n",
       "    </tr>\n",
       "    <tr>\n",
       "      <th>1</th>\n",
       "      <td>1192601</td>\n",
       "      <td>14</td>\n",
       "      <td>2</td>\n",
       "      <td>1999</td>\n",
       "      <td>11</td>\n",
       "      <td>female</td>\n",
       "      <td>6.0</td>\n",
       "      <td>0</td>\n",
       "      <td>0</td>\n",
       "      <td>0</td>\n",
       "      <td>0</td>\n",
       "      <td>0</td>\n",
       "      <td>0</td>\n",
       "      <td>0</td>\n",
       "      <td>0</td>\n",
       "      <td>0</td>\n",
       "    </tr>\n",
       "    <tr>\n",
       "      <th>2</th>\n",
       "      <td>2083884</td>\n",
       "      <td>14</td>\n",
       "      <td>16</td>\n",
       "      <td>1999</td>\n",
       "      <td>11</td>\n",
       "      <td>male</td>\n",
       "      <td>13.0</td>\n",
       "      <td>0</td>\n",
       "      <td>0</td>\n",
       "      <td>0</td>\n",
       "      <td>0</td>\n",
       "      <td>0</td>\n",
       "      <td>0</td>\n",
       "      <td>0</td>\n",
       "      <td>0</td>\n",
       "      <td>0</td>\n",
       "    </tr>\n",
       "    <tr>\n",
       "      <th>3</th>\n",
       "      <td>1203168</td>\n",
       "      <td>14</td>\n",
       "      <td>25</td>\n",
       "      <td>1999</td>\n",
       "      <td>12</td>\n",
       "      <td>female</td>\n",
       "      <td>93.0</td>\n",
       "      <td>0</td>\n",
       "      <td>0</td>\n",
       "      <td>0</td>\n",
       "      <td>0</td>\n",
       "      <td>0</td>\n",
       "      <td>0</td>\n",
       "      <td>0</td>\n",
       "      <td>0</td>\n",
       "      <td>0</td>\n",
       "    </tr>\n",
       "    <tr>\n",
       "      <th>4</th>\n",
       "      <td>1733186</td>\n",
       "      <td>14</td>\n",
       "      <td>4</td>\n",
       "      <td>1999</td>\n",
       "      <td>12</td>\n",
       "      <td>male</td>\n",
       "      <td>82.0</td>\n",
       "      <td>0</td>\n",
       "      <td>0</td>\n",
       "      <td>0</td>\n",
       "      <td>0</td>\n",
       "      <td>0</td>\n",
       "      <td>0</td>\n",
       "      <td>0</td>\n",
       "      <td>0</td>\n",
       "      <td>0</td>\n",
       "    </tr>\n",
       "  </tbody>\n",
       "</table>\n",
       "</div>"
      ],
      "text/plain": [
       "    userid  age  dob_day  dob_year  dob_month  gender  tenure  friend_count  \\\n",
       "0  2094382   14       19      1999         11    male   266.0             0   \n",
       "1  1192601   14        2      1999         11  female     6.0             0   \n",
       "2  2083884   14       16      1999         11    male    13.0             0   \n",
       "3  1203168   14       25      1999         12  female    93.0             0   \n",
       "4  1733186   14        4      1999         12    male    82.0             0   \n",
       "\n",
       "   friendships_initiated  likes  likes_received  mobile_likes  \\\n",
       "0                      0      0               0             0   \n",
       "1                      0      0               0             0   \n",
       "2                      0      0               0             0   \n",
       "3                      0      0               0             0   \n",
       "4                      0      0               0             0   \n",
       "\n",
       "   mobile_likes_received  www_likes  www_likes_received  calculated_likes  \n",
       "0                      0          0                   0                 0  \n",
       "1                      0          0                   0                 0  \n",
       "2                      0          0                   0                 0  \n",
       "3                      0          0                   0                 0  \n",
       "4                      0          0                   0                 0  "
      ]
     },
     "execution_count": 20,
     "metadata": {},
     "output_type": "execute_result"
    }
   ],
   "source": [
    "facebook.head()"
   ]
  },
  {
   "cell_type": "code",
   "execution_count": 21,
   "id": "004d09d2",
   "metadata": {},
   "outputs": [
    {
     "data": {
      "text/plain": [
       "76695"
      ]
     },
     "execution_count": 21,
     "metadata": {},
     "output_type": "execute_result"
    }
   ],
   "source": [
    "(facebook['calculated_likes'] != facebook['likes_received']).sum() #check if there is a difference between 2 colums"
   ]
  },
  {
   "cell_type": "code",
   "execution_count": 22,
   "id": "65c0da67",
   "metadata": {},
   "outputs": [
    {
     "data": {
      "text/plain": [
       "<AxesSubplot:ylabel='Frequency'>"
      ]
     },
     "execution_count": 22,
     "metadata": {},
     "output_type": "execute_result"
    },
    {
     "data": {
      "image/png": "[encoded data removed]",
      "text/plain": [
       "<Figure size 1008x432 with 1 Axes>"
      ]
     },
     "metadata": {
      "needs_background": "light"
     },
     "output_type": "display_data"
    }
   ],
   "source": [
    "facebook['calculated_likes'].plot(kind='hist', bins=100, figsize=(14,6)) #histagram "
   ]
  },
  {
   "cell_type": "markdown",
   "id": "a8ba627d",
   "metadata": {},
   "source": [
    "Selecting(flitering) or indexing:"
   ]
  },
  {
   "cell_type": "code",
   "execution_count": 23,
   "id": "72c1649a",
   "metadata": {},
   "outputs": [
    {
     "data": {
      "text/html": [
       "<div>\n",
       "<style scoped>\n",
       "    .dataframe tbody tr th:only-of-type {\n",
       "        vertical-align: middle;\n",
       "    }\n",
       "\n",
       "    .dataframe tbody tr th {\n",
       "        vertical-align: top;\n",
       "    }\n",
       "\n",
       "    .dataframe thead th {\n",
       "        text-align: right;\n",
       "    }\n",
       "</style>\n",
       "<table border=\"1\" class=\"dataframe\">\n",
       "  <thead>\n",
       "    <tr style=\"text-align: right;\">\n",
       "      <th></th>\n",
       "      <th>userid</th>\n",
       "      <th>age</th>\n",
       "      <th>dob_day</th>\n",
       "      <th>dob_year</th>\n",
       "      <th>dob_month</th>\n",
       "      <th>gender</th>\n",
       "      <th>tenure</th>\n",
       "      <th>friend_count</th>\n",
       "      <th>friendships_initiated</th>\n",
       "      <th>likes</th>\n",
       "      <th>likes_received</th>\n",
       "      <th>mobile_likes</th>\n",
       "      <th>mobile_likes_received</th>\n",
       "      <th>www_likes</th>\n",
       "      <th>www_likes_received</th>\n",
       "      <th>calculated_likes</th>\n",
       "    </tr>\n",
       "  </thead>\n",
       "  <tbody>\n",
       "    <tr>\n",
       "      <th>0</th>\n",
       "      <td>2094382</td>\n",
       "      <td>14</td>\n",
       "      <td>19</td>\n",
       "      <td>1999</td>\n",
       "      <td>11</td>\n",
       "      <td>male</td>\n",
       "      <td>266.0</td>\n",
       "      <td>0</td>\n",
       "      <td>0</td>\n",
       "      <td>0</td>\n",
       "      <td>0</td>\n",
       "      <td>0</td>\n",
       "      <td>0</td>\n",
       "      <td>0</td>\n",
       "      <td>0</td>\n",
       "      <td>0</td>\n",
       "    </tr>\n",
       "    <tr>\n",
       "      <th>2</th>\n",
       "      <td>2083884</td>\n",
       "      <td>14</td>\n",
       "      <td>16</td>\n",
       "      <td>1999</td>\n",
       "      <td>11</td>\n",
       "      <td>male</td>\n",
       "      <td>13.0</td>\n",
       "      <td>0</td>\n",
       "      <td>0</td>\n",
       "      <td>0</td>\n",
       "      <td>0</td>\n",
       "      <td>0</td>\n",
       "      <td>0</td>\n",
       "      <td>0</td>\n",
       "      <td>0</td>\n",
       "      <td>0</td>\n",
       "    </tr>\n",
       "    <tr>\n",
       "      <th>4</th>\n",
       "      <td>1733186</td>\n",
       "      <td>14</td>\n",
       "      <td>4</td>\n",
       "      <td>1999</td>\n",
       "      <td>12</td>\n",
       "      <td>male</td>\n",
       "      <td>82.0</td>\n",
       "      <td>0</td>\n",
       "      <td>0</td>\n",
       "      <td>0</td>\n",
       "      <td>0</td>\n",
       "      <td>0</td>\n",
       "      <td>0</td>\n",
       "      <td>0</td>\n",
       "      <td>0</td>\n",
       "      <td>0</td>\n",
       "    </tr>\n",
       "    <tr>\n",
       "      <th>5</th>\n",
       "      <td>1524765</td>\n",
       "      <td>14</td>\n",
       "      <td>1</td>\n",
       "      <td>1999</td>\n",
       "      <td>12</td>\n",
       "      <td>male</td>\n",
       "      <td>15.0</td>\n",
       "      <td>0</td>\n",
       "      <td>0</td>\n",
       "      <td>0</td>\n",
       "      <td>0</td>\n",
       "      <td>0</td>\n",
       "      <td>0</td>\n",
       "      <td>0</td>\n",
       "      <td>0</td>\n",
       "      <td>0</td>\n",
       "    </tr>\n",
       "    <tr>\n",
       "      <th>6</th>\n",
       "      <td>1136133</td>\n",
       "      <td>13</td>\n",
       "      <td>14</td>\n",
       "      <td>2000</td>\n",
       "      <td>1</td>\n",
       "      <td>male</td>\n",
       "      <td>12.0</td>\n",
       "      <td>0</td>\n",
       "      <td>0</td>\n",
       "      <td>0</td>\n",
       "      <td>0</td>\n",
       "      <td>0</td>\n",
       "      <td>0</td>\n",
       "      <td>0</td>\n",
       "      <td>0</td>\n",
       "      <td>0</td>\n",
       "    </tr>\n",
       "    <tr>\n",
       "      <th>...</th>\n",
       "      <td>...</td>\n",
       "      <td>...</td>\n",
       "      <td>...</td>\n",
       "      <td>...</td>\n",
       "      <td>...</td>\n",
       "      <td>...</td>\n",
       "      <td>...</td>\n",
       "      <td>...</td>\n",
       "      <td>...</td>\n",
       "      <td>...</td>\n",
       "      <td>...</td>\n",
       "      <td>...</td>\n",
       "      <td>...</td>\n",
       "      <td>...</td>\n",
       "      <td>...</td>\n",
       "      <td>...</td>\n",
       "    </tr>\n",
       "    <tr>\n",
       "      <th>98975</th>\n",
       "      <td>1749991</td>\n",
       "      <td>107</td>\n",
       "      <td>29</td>\n",
       "      <td>1906</td>\n",
       "      <td>12</td>\n",
       "      <td>male</td>\n",
       "      <td>328.0</td>\n",
       "      <td>3748</td>\n",
       "      <td>396</td>\n",
       "      <td>6203</td>\n",
       "      <td>19674</td>\n",
       "      <td>3667</td>\n",
       "      <td>17624</td>\n",
       "      <td>2536</td>\n",
       "      <td>2050</td>\n",
       "      <td>25877</td>\n",
       "    </tr>\n",
       "    <tr>\n",
       "      <th>98985</th>\n",
       "      <td>1299870</td>\n",
       "      <td>18</td>\n",
       "      <td>16</td>\n",
       "      <td>1995</td>\n",
       "      <td>8</td>\n",
       "      <td>male</td>\n",
       "      <td>894.0</td>\n",
       "      <td>3440</td>\n",
       "      <td>1138</td>\n",
       "      <td>3835</td>\n",
       "      <td>3833</td>\n",
       "      <td>3269</td>\n",
       "      <td>2221</td>\n",
       "      <td>566</td>\n",
       "      <td>1612</td>\n",
       "      <td>7668</td>\n",
       "    </tr>\n",
       "    <tr>\n",
       "      <th>98988</th>\n",
       "      <td>1729341</td>\n",
       "      <td>21</td>\n",
       "      <td>20</td>\n",
       "      <td>1992</td>\n",
       "      <td>10</td>\n",
       "      <td>male</td>\n",
       "      <td>587.0</td>\n",
       "      <td>2784</td>\n",
       "      <td>809</td>\n",
       "      <td>5177</td>\n",
       "      <td>5423</td>\n",
       "      <td>4759</td>\n",
       "      <td>3278</td>\n",
       "      <td>418</td>\n",
       "      <td>2145</td>\n",
       "      <td>10600</td>\n",
       "    </tr>\n",
       "    <tr>\n",
       "      <th>98990</th>\n",
       "      <td>1902600</td>\n",
       "      <td>58</td>\n",
       "      <td>11</td>\n",
       "      <td>1955</td>\n",
       "      <td>3</td>\n",
       "      <td>male</td>\n",
       "      <td>399.0</td>\n",
       "      <td>2083</td>\n",
       "      <td>553</td>\n",
       "      <td>6236</td>\n",
       "      <td>7784</td>\n",
       "      <td>4953</td>\n",
       "      <td>4795</td>\n",
       "      <td>1283</td>\n",
       "      <td>2989</td>\n",
       "      <td>14020</td>\n",
       "    </tr>\n",
       "    <tr>\n",
       "      <th>98993</th>\n",
       "      <td>1654565</td>\n",
       "      <td>19</td>\n",
       "      <td>15</td>\n",
       "      <td>1994</td>\n",
       "      <td>8</td>\n",
       "      <td>male</td>\n",
       "      <td>394.0</td>\n",
       "      <td>4538</td>\n",
       "      <td>4144</td>\n",
       "      <td>4501</td>\n",
       "      <td>15088</td>\n",
       "      <td>4435</td>\n",
       "      <td>5961</td>\n",
       "      <td>66</td>\n",
       "      <td>9127</td>\n",
       "      <td>19589</td>\n",
       "    </tr>\n",
       "  </tbody>\n",
       "</table>\n",
       "<p>58574 rows × 16 columns</p>\n",
       "</div>"
      ],
      "text/plain": [
       "        userid  age  dob_day  dob_year  dob_month gender  tenure  \\\n",
       "0      2094382   14       19      1999         11   male   266.0   \n",
       "2      2083884   14       16      1999         11   male    13.0   \n",
       "4      1733186   14        4      1999         12   male    82.0   \n",
       "5      1524765   14        1      1999         12   male    15.0   \n",
       "6      1136133   13       14      2000          1   male    12.0   \n",
       "...        ...  ...      ...       ...        ...    ...     ...   \n",
       "98975  1749991  107       29      1906         12   male   328.0   \n",
       "98985  1299870   18       16      1995          8   male   894.0   \n",
       "98988  1729341   21       20      1992         10   male   587.0   \n",
       "98990  1902600   58       11      1955          3   male   399.0   \n",
       "98993  1654565   19       15      1994          8   male   394.0   \n",
       "\n",
       "       friend_count  friendships_initiated  likes  likes_received  \\\n",
       "0                 0                      0      0               0   \n",
       "2                 0                      0      0               0   \n",
       "4                 0                      0      0               0   \n",
       "5                 0                      0      0               0   \n",
       "6                 0                      0      0               0   \n",
       "...             ...                    ...    ...             ...   \n",
       "98975          3748                    396   6203           19674   \n",
       "98985          3440                   1138   3835            3833   \n",
       "98988          2784                    809   5177            5423   \n",
       "98990          2083                    553   6236            7784   \n",
       "98993          4538                   4144   4501           15088   \n",
       "\n",
       "       mobile_likes  mobile_likes_received  www_likes  www_likes_received  \\\n",
       "0                 0                      0          0                   0   \n",
       "2                 0                      0          0                   0   \n",
       "4                 0                      0          0                   0   \n",
       "5                 0                      0          0                   0   \n",
       "6                 0                      0          0                   0   \n",
       "...             ...                    ...        ...                 ...   \n",
       "98975          3667                  17624       2536                2050   \n",
       "98985          3269                   2221        566                1612   \n",
       "98988          4759                   3278        418                2145   \n",
       "98990          4953                   4795       1283                2989   \n",
       "98993          4435                   5961         66                9127   \n",
       "\n",
       "       calculated_likes  \n",
       "0                     0  \n",
       "2                     0  \n",
       "4                     0  \n",
       "5                     0  \n",
       "6                     0  \n",
       "...                 ...  \n",
       "98975             25877  \n",
       "98985              7668  \n",
       "98988             10600  \n",
       "98990             14020  \n",
       "98993             19589  \n",
       "\n",
       "[58574 rows x 16 columns]"
      ]
     },
     "execution_count": 23,
     "metadata": {},
     "output_type": "execute_result"
    }
   ],
   "source": [
    "facebook.loc[facebook['gender']== 'male'] #get all the users who are male"
   ]
  },
  {
   "cell_type": "code",
   "execution_count": 24,
   "id": "033da45a",
   "metadata": {},
   "outputs": [
    {
     "data": {
      "text/html": [
       "<div>\n",
       "<style scoped>\n",
       "    .dataframe tbody tr th:only-of-type {\n",
       "        vertical-align: middle;\n",
       "    }\n",
       "\n",
       "    .dataframe tbody tr th {\n",
       "        vertical-align: top;\n",
       "    }\n",
       "\n",
       "    .dataframe thead th {\n",
       "        text-align: right;\n",
       "    }\n",
       "</style>\n",
       "<table border=\"1\" class=\"dataframe\">\n",
       "  <thead>\n",
       "    <tr style=\"text-align: right;\">\n",
       "      <th></th>\n",
       "      <th>userid</th>\n",
       "      <th>age</th>\n",
       "      <th>dob_day</th>\n",
       "      <th>dob_year</th>\n",
       "      <th>dob_month</th>\n",
       "      <th>gender</th>\n",
       "      <th>tenure</th>\n",
       "      <th>friend_count</th>\n",
       "      <th>friendships_initiated</th>\n",
       "      <th>likes</th>\n",
       "      <th>likes_received</th>\n",
       "      <th>mobile_likes</th>\n",
       "      <th>mobile_likes_received</th>\n",
       "      <th>www_likes</th>\n",
       "      <th>www_likes_received</th>\n",
       "      <th>calculated_likes</th>\n",
       "    </tr>\n",
       "  </thead>\n",
       "  <tbody>\n",
       "    <tr>\n",
       "      <th>0</th>\n",
       "      <td>2094382</td>\n",
       "      <td>14</td>\n",
       "      <td>19</td>\n",
       "      <td>1999</td>\n",
       "      <td>11</td>\n",
       "      <td>male</td>\n",
       "      <td>266.0</td>\n",
       "      <td>0</td>\n",
       "      <td>0</td>\n",
       "      <td>0</td>\n",
       "      <td>0</td>\n",
       "      <td>0</td>\n",
       "      <td>0</td>\n",
       "      <td>0</td>\n",
       "      <td>0</td>\n",
       "      <td>0</td>\n",
       "    </tr>\n",
       "    <tr>\n",
       "      <th>1</th>\n",
       "      <td>1192601</td>\n",
       "      <td>14</td>\n",
       "      <td>2</td>\n",
       "      <td>1999</td>\n",
       "      <td>11</td>\n",
       "      <td>female</td>\n",
       "      <td>6.0</td>\n",
       "      <td>0</td>\n",
       "      <td>0</td>\n",
       "      <td>0</td>\n",
       "      <td>0</td>\n",
       "      <td>0</td>\n",
       "      <td>0</td>\n",
       "      <td>0</td>\n",
       "      <td>0</td>\n",
       "      <td>0</td>\n",
       "    </tr>\n",
       "    <tr>\n",
       "      <th>2</th>\n",
       "      <td>2083884</td>\n",
       "      <td>14</td>\n",
       "      <td>16</td>\n",
       "      <td>1999</td>\n",
       "      <td>11</td>\n",
       "      <td>male</td>\n",
       "      <td>13.0</td>\n",
       "      <td>0</td>\n",
       "      <td>0</td>\n",
       "      <td>0</td>\n",
       "      <td>0</td>\n",
       "      <td>0</td>\n",
       "      <td>0</td>\n",
       "      <td>0</td>\n",
       "      <td>0</td>\n",
       "      <td>0</td>\n",
       "    </tr>\n",
       "    <tr>\n",
       "      <th>3</th>\n",
       "      <td>1203168</td>\n",
       "      <td>14</td>\n",
       "      <td>25</td>\n",
       "      <td>1999</td>\n",
       "      <td>12</td>\n",
       "      <td>female</td>\n",
       "      <td>93.0</td>\n",
       "      <td>0</td>\n",
       "      <td>0</td>\n",
       "      <td>0</td>\n",
       "      <td>0</td>\n",
       "      <td>0</td>\n",
       "      <td>0</td>\n",
       "      <td>0</td>\n",
       "      <td>0</td>\n",
       "      <td>0</td>\n",
       "    </tr>\n",
       "    <tr>\n",
       "      <th>4</th>\n",
       "      <td>1733186</td>\n",
       "      <td>14</td>\n",
       "      <td>4</td>\n",
       "      <td>1999</td>\n",
       "      <td>12</td>\n",
       "      <td>male</td>\n",
       "      <td>82.0</td>\n",
       "      <td>0</td>\n",
       "      <td>0</td>\n",
       "      <td>0</td>\n",
       "      <td>0</td>\n",
       "      <td>0</td>\n",
       "      <td>0</td>\n",
       "      <td>0</td>\n",
       "      <td>0</td>\n",
       "      <td>0</td>\n",
       "    </tr>\n",
       "  </tbody>\n",
       "</table>\n",
       "</div>"
      ],
      "text/plain": [
       "    userid  age  dob_day  dob_year  dob_month  gender  tenure  friend_count  \\\n",
       "0  2094382   14       19      1999         11    male   266.0             0   \n",
       "1  1192601   14        2      1999         11  female     6.0             0   \n",
       "2  2083884   14       16      1999         11    male    13.0             0   \n",
       "3  1203168   14       25      1999         12  female    93.0             0   \n",
       "4  1733186   14        4      1999         12    male    82.0             0   \n",
       "\n",
       "   friendships_initiated  likes  likes_received  mobile_likes  \\\n",
       "0                      0      0               0             0   \n",
       "1                      0      0               0             0   \n",
       "2                      0      0               0             0   \n",
       "3                      0      0               0             0   \n",
       "4                      0      0               0             0   \n",
       "\n",
       "   mobile_likes_received  www_likes  www_likes_received  calculated_likes  \n",
       "0                      0          0                   0                 0  \n",
       "1                      0          0                   0                 0  \n",
       "2                      0          0                   0                 0  \n",
       "3                      0          0                   0                 0  \n",
       "4                      0          0                   0                 0  "
      ]
     },
     "execution_count": 24,
     "metadata": {},
     "output_type": "execute_result"
    }
   ],
   "source": [
    "facebook.head()"
   ]
  },
  {
   "cell_type": "code",
   "execution_count": 25,
   "id": "255af0fb",
   "metadata": {},
   "outputs": [],
   "source": [
    "facebook['calculated_likes'] += 100 #we added 100 to each cell in the calculated likes columns\n"
   ]
  },
  {
   "cell_type": "code",
   "execution_count": 26,
   "id": "42bfb78c",
   "metadata": {},
   "outputs": [
    {
     "data": {
      "text/plain": [
       "0    100\n",
       "1    100\n",
       "2    100\n",
       "3    100\n",
       "4    100\n",
       "Name: calculated_likes, dtype: int64"
      ]
     },
     "execution_count": 26,
     "metadata": {},
     "output_type": "execute_result"
    }
   ],
   "source": [
    "facebook['calculated_likes'].head()"
   ]
  },
  {
   "cell_type": "code",
   "execution_count": 27,
   "id": "3a10d50d",
   "metadata": {},
   "outputs": [
    {
     "data": {
      "text/html": [
       "<div>\n",
       "<style scoped>\n",
       "    .dataframe tbody tr th:only-of-type {\n",
       "        vertical-align: middle;\n",
       "    }\n",
       "\n",
       "    .dataframe tbody tr th {\n",
       "        vertical-align: top;\n",
       "    }\n",
       "\n",
       "    .dataframe thead th {\n",
       "        text-align: right;\n",
       "    }\n",
       "</style>\n",
       "<table border=\"1\" class=\"dataframe\">\n",
       "  <thead>\n",
       "    <tr style=\"text-align: right;\">\n",
       "      <th></th>\n",
       "      <th>userid</th>\n",
       "      <th>age</th>\n",
       "      <th>dob_day</th>\n",
       "      <th>dob_year</th>\n",
       "      <th>dob_month</th>\n",
       "      <th>gender</th>\n",
       "      <th>tenure</th>\n",
       "      <th>friend_count</th>\n",
       "      <th>friendships_initiated</th>\n",
       "      <th>likes</th>\n",
       "      <th>likes_received</th>\n",
       "      <th>mobile_likes</th>\n",
       "      <th>mobile_likes_received</th>\n",
       "      <th>www_likes</th>\n",
       "      <th>www_likes_received</th>\n",
       "      <th>calculated_likes</th>\n",
       "    </tr>\n",
       "  </thead>\n",
       "  <tbody>\n",
       "    <tr>\n",
       "      <th>0</th>\n",
       "      <td>2094382</td>\n",
       "      <td>14</td>\n",
       "      <td>19</td>\n",
       "      <td>1999</td>\n",
       "      <td>11</td>\n",
       "      <td>male</td>\n",
       "      <td>266.0</td>\n",
       "      <td>0</td>\n",
       "      <td>0</td>\n",
       "      <td>0</td>\n",
       "      <td>0</td>\n",
       "      <td>0</td>\n",
       "      <td>0</td>\n",
       "      <td>0</td>\n",
       "      <td>0</td>\n",
       "      <td>100</td>\n",
       "    </tr>\n",
       "    <tr>\n",
       "      <th>1</th>\n",
       "      <td>1192601</td>\n",
       "      <td>14</td>\n",
       "      <td>2</td>\n",
       "      <td>1999</td>\n",
       "      <td>11</td>\n",
       "      <td>female</td>\n",
       "      <td>6.0</td>\n",
       "      <td>0</td>\n",
       "      <td>0</td>\n",
       "      <td>0</td>\n",
       "      <td>0</td>\n",
       "      <td>0</td>\n",
       "      <td>0</td>\n",
       "      <td>0</td>\n",
       "      <td>0</td>\n",
       "      <td>100</td>\n",
       "    </tr>\n",
       "    <tr>\n",
       "      <th>2</th>\n",
       "      <td>2083884</td>\n",
       "      <td>14</td>\n",
       "      <td>16</td>\n",
       "      <td>1999</td>\n",
       "      <td>11</td>\n",
       "      <td>male</td>\n",
       "      <td>13.0</td>\n",
       "      <td>0</td>\n",
       "      <td>0</td>\n",
       "      <td>0</td>\n",
       "      <td>0</td>\n",
       "      <td>0</td>\n",
       "      <td>0</td>\n",
       "      <td>0</td>\n",
       "      <td>0</td>\n",
       "      <td>100</td>\n",
       "    </tr>\n",
       "    <tr>\n",
       "      <th>3</th>\n",
       "      <td>1203168</td>\n",
       "      <td>14</td>\n",
       "      <td>25</td>\n",
       "      <td>1999</td>\n",
       "      <td>12</td>\n",
       "      <td>female</td>\n",
       "      <td>93.0</td>\n",
       "      <td>0</td>\n",
       "      <td>0</td>\n",
       "      <td>0</td>\n",
       "      <td>0</td>\n",
       "      <td>0</td>\n",
       "      <td>0</td>\n",
       "      <td>0</td>\n",
       "      <td>0</td>\n",
       "      <td>100</td>\n",
       "    </tr>\n",
       "    <tr>\n",
       "      <th>4</th>\n",
       "      <td>1733186</td>\n",
       "      <td>14</td>\n",
       "      <td>4</td>\n",
       "      <td>1999</td>\n",
       "      <td>12</td>\n",
       "      <td>male</td>\n",
       "      <td>82.0</td>\n",
       "      <td>0</td>\n",
       "      <td>0</td>\n",
       "      <td>0</td>\n",
       "      <td>0</td>\n",
       "      <td>0</td>\n",
       "      <td>0</td>\n",
       "      <td>0</td>\n",
       "      <td>0</td>\n",
       "      <td>100</td>\n",
       "    </tr>\n",
       "  </tbody>\n",
       "</table>\n",
       "</div>"
      ],
      "text/plain": [
       "    userid  age  dob_day  dob_year  dob_month  gender  tenure  friend_count  \\\n",
       "0  2094382   14       19      1999         11    male   266.0             0   \n",
       "1  1192601   14        2      1999         11  female     6.0             0   \n",
       "2  2083884   14       16      1999         11    male    13.0             0   \n",
       "3  1203168   14       25      1999         12  female    93.0             0   \n",
       "4  1733186   14        4      1999         12    male    82.0             0   \n",
       "\n",
       "   friendships_initiated  likes  likes_received  mobile_likes  \\\n",
       "0                      0      0               0             0   \n",
       "1                      0      0               0             0   \n",
       "2                      0      0               0             0   \n",
       "3                      0      0               0             0   \n",
       "4                      0      0               0             0   \n",
       "\n",
       "   mobile_likes_received  www_likes  www_likes_received  calculated_likes  \n",
       "0                      0          0                   0               100  \n",
       "1                      0          0                   0               100  \n",
       "2                      0          0                   0               100  \n",
       "3                      0          0                   0               100  \n",
       "4                      0          0                   0               100  "
      ]
     },
     "execution_count": 27,
     "metadata": {},
     "output_type": "execute_result"
    }
   ],
   "source": [
    "facebook.head()"
   ]
  },
  {
   "cell_type": "markdown",
   "id": "24b5c717",
   "metadata": {},
   "source": [
    "# Numpy Array:"
   ]
  },
  {
   "cell_type": "code",
   "execution_count": 28,
   "id": "ea272365",
   "metadata": {},
   "outputs": [],
   "source": [
    "a=np.array([1,4,5,6,7] , dtype=float) #create array "
   ]
  },
  {
   "cell_type": "code",
   "execution_count": 29,
   "id": "e9846d1c",
   "metadata": {},
   "outputs": [
    {
     "data": {
      "text/plain": [
       "array([1., 4., 5., 6., 7.])"
      ]
     },
     "execution_count": 29,
     "metadata": {},
     "output_type": "execute_result"
    }
   ],
   "source": [
    "a"
   ]
  },
  {
   "cell_type": "code",
   "execution_count": 30,
   "id": "6c2ee091",
   "metadata": {},
   "outputs": [],
   "source": [
    "b=np.array([0.4,0.1,0.4,5])"
   ]
  },
  {
   "cell_type": "code",
   "execution_count": 31,
   "id": "be7a25fe",
   "metadata": {},
   "outputs": [
    {
     "data": {
      "text/plain": [
       "array([0.4, 0.1, 0.4, 5. ])"
      ]
     },
     "execution_count": 31,
     "metadata": {},
     "output_type": "execute_result"
    }
   ],
   "source": [
    "b"
   ]
  },
  {
   "cell_type": "code",
   "execution_count": 32,
   "id": "d8da92ca",
   "metadata": {},
   "outputs": [
    {
     "data": {
      "text/plain": [
       "dtype('float64')"
      ]
     },
     "execution_count": 32,
     "metadata": {},
     "output_type": "execute_result"
    }
   ],
   "source": [
    "a.dtype  #check the data type"
   ]
  },
  {
   "cell_type": "code",
   "execution_count": 33,
   "id": "7efd1299",
   "metadata": {},
   "outputs": [
    {
     "data": {
      "text/plain": [
       "dtype('float64')"
      ]
     },
     "execution_count": 33,
     "metadata": {},
     "output_type": "execute_result"
    }
   ],
   "source": [
    "b.dtype"
   ]
  },
  {
   "cell_type": "code",
   "execution_count": 34,
   "id": "59c0bd55",
   "metadata": {},
   "outputs": [
    {
     "data": {
      "text/plain": [
       "array([[ 3,  4,  5],\n",
       "       [ 1, 11,  0]])"
      ]
     },
     "execution_count": 34,
     "metadata": {},
     "output_type": "execute_result"
    }
   ],
   "source": [
    "A=np.array([[3,4,5], #multi diminsional array 2 rows. 3 columns\n",
    "            [1,11,0]])\n",
    "A"
   ]
  },
  {
   "cell_type": "code",
   "execution_count": 35,
   "id": "f84e5409",
   "metadata": {},
   "outputs": [
    {
     "data": {
      "text/plain": [
       "(2, 3)"
      ]
     },
     "execution_count": 35,
     "metadata": {},
     "output_type": "execute_result"
    }
   ],
   "source": [
    "A.shape\n"
   ]
  },
  {
   "cell_type": "code",
   "execution_count": 36,
   "id": "eaad2703",
   "metadata": {},
   "outputs": [
    {
     "data": {
      "text/plain": [
       "2"
      ]
     },
     "execution_count": 36,
     "metadata": {},
     "output_type": "execute_result"
    }
   ],
   "source": [
    "A.ndim"
   ]
  },
  {
   "cell_type": "code",
   "execution_count": null,
   "id": "5fe5cd18",
   "metadata": {},
   "outputs": [],
   "source": []
  },
  {
   "cell_type": "code",
   "execution_count": 37,
   "id": "1b21a36e",
   "metadata": {},
   "outputs": [
    {
     "data": {
      "text/plain": [
       "6"
      ]
     },
     "execution_count": 37,
     "metadata": {},
     "output_type": "execute_result"
    }
   ],
   "source": [
    "A.size #total number of elements"
   ]
  },
  {
   "cell_type": "markdown",
   "id": "20c03842",
   "metadata": {},
   "source": [
    "# pandas "
   ]
  },
  {
   "cell_type": "code",
   "execution_count": 38,
   "id": "40bd3d53",
   "metadata": {},
   "outputs": [],
   "source": [
    "import pandas as pd "
   ]
  },
  {
   "cell_type": "code",
   "execution_count": 39,
   "id": "10bce906",
   "metadata": {},
   "outputs": [
    {
     "data": {
      "text/plain": [
       "0     345.000\n",
       "1    6754.000\n",
       "2    7866.000\n",
       "3    8897.000\n",
       "4     343.445\n",
       "5     657.545\n",
       "6     343.000\n",
       "7     556.000\n",
       "dtype: float64"
      ]
     },
     "execution_count": 39,
     "metadata": {},
     "output_type": "execute_result"
    }
   ],
   "source": [
    "dataseries=pd.Series([345,6754,7866,8897,343.445,657.545,343,556])\n",
    "dataseries\n"
   ]
  },
  {
   "cell_type": "code",
   "execution_count": 40,
   "id": "df332c8b",
   "metadata": {},
   "outputs": [],
   "source": [
    "dataseries.name='meme'"
   ]
  },
  {
   "cell_type": "code",
   "execution_count": 41,
   "id": "5264b0b1",
   "metadata": {},
   "outputs": [
    {
     "data": {
      "text/plain": [
       "0     345.000\n",
       "1    6754.000\n",
       "2    7866.000\n",
       "3    8897.000\n",
       "4     343.445\n",
       "5     657.545\n",
       "6     343.000\n",
       "7     556.000\n",
       "Name: meme, dtype: float64"
      ]
     },
     "execution_count": 41,
     "metadata": {},
     "output_type": "execute_result"
    }
   ],
   "source": [
    "dataseries"
   ]
  },
  {
   "cell_type": "code",
   "execution_count": 42,
   "id": "a4515771",
   "metadata": {},
   "outputs": [
    {
     "data": {
      "text/plain": [
       "dtype('float64')"
      ]
     },
     "execution_count": 42,
     "metadata": {},
     "output_type": "execute_result"
    }
   ],
   "source": [
    "dataseries.dtype"
   ]
  },
  {
   "cell_type": "code",
   "execution_count": 43,
   "id": "4da676c6",
   "metadata": {},
   "outputs": [
    {
     "data": {
      "text/plain": [
       "array([ 345.   , 6754.   , 7866.   , 8897.   ,  343.445,  657.545,\n",
       "        343.   ,  556.   ])"
      ]
     },
     "execution_count": 43,
     "metadata": {},
     "output_type": "execute_result"
    }
   ],
   "source": [
    "dataseries.values"
   ]
  },
  {
   "cell_type": "markdown",
   "id": "30afa0ac",
   "metadata": {},
   "source": [
    "We will change the index of the series from number to list of names so we don't need to remember the index of the element as a number and the series still ordered."
   ]
  },
  {
   "cell_type": "code",
   "execution_count": 44,
   "id": "d7a260c0",
   "metadata": {},
   "outputs": [],
   "source": [
    "dataseries.index=['Canada','Germany','Polen','USA','UK','Russland','Syria','Jordan']"
   ]
  },
  {
   "cell_type": "code",
   "execution_count": 45,
   "id": "861ce8db",
   "metadata": {},
   "outputs": [
    {
     "data": {
      "text/plain": [
       "Canada       345.000\n",
       "Germany     6754.000\n",
       "Polen       7866.000\n",
       "USA         8897.000\n",
       "UK           343.445\n",
       "Russland     657.545\n",
       "Syria        343.000\n",
       "Jordan       556.000\n",
       "Name: meme, dtype: float64"
      ]
     },
     "execution_count": 45,
     "metadata": {},
     "output_type": "execute_result"
    }
   ],
   "source": [
    "dataseries"
   ]
  },
  {
   "cell_type": "code",
   "execution_count": 46,
   "id": "6f206886",
   "metadata": {},
   "outputs": [
    {
     "data": {
      "text/plain": [
       "345.0"
      ]
     },
     "execution_count": 46,
     "metadata": {},
     "output_type": "execute_result"
    }
   ],
   "source": [
    "dataseries['Canada']"
   ]
  },
  {
   "cell_type": "code",
   "execution_count": 47,
   "id": "e8ef472c",
   "metadata": {},
   "outputs": [
    {
     "data": {
      "text/plain": [
       "8897.0"
      ]
     },
     "execution_count": 47,
     "metadata": {},
     "output_type": "execute_result"
    }
   ],
   "source": [
    "dataseries['USA']"
   ]
  },
  {
   "cell_type": "code",
   "execution_count": 48,
   "id": "1f2e7453",
   "metadata": {},
   "outputs": [
    {
     "data": {
      "text/plain": [
       "Canada      False\n",
       "Germany     False\n",
       "Polen        True\n",
       "USA          True\n",
       "UK          False\n",
       "Russland    False\n",
       "Syria       False\n",
       "Jordan      False\n",
       "Name: meme, dtype: bool"
      ]
     },
     "execution_count": 48,
     "metadata": {},
     "output_type": "execute_result"
    }
   ],
   "source": [
    "dataseries>7000"
   ]
  },
  {
   "cell_type": "code",
   "execution_count": 49,
   "id": "57932bd0",
   "metadata": {},
   "outputs": [
    {
     "data": {
      "text/plain": [
       "Polen    7866.0\n",
       "USA      8897.0\n",
       "Name: meme, dtype: float64"
      ]
     },
     "execution_count": 49,
     "metadata": {},
     "output_type": "execute_result"
    }
   ],
   "source": [
    "dataseries[dataseries>7000] #this work as a filter"
   ]
  },
  {
   "cell_type": "code",
   "execution_count": 50,
   "id": "99a1eb69",
   "metadata": {},
   "outputs": [],
   "source": [
    "dataseries['Germany']=666.0"
   ]
  },
  {
   "cell_type": "code",
   "execution_count": 51,
   "id": "586d5990",
   "metadata": {},
   "outputs": [
    {
     "data": {
      "text/plain": [
       "Canada       345.000\n",
       "Germany      666.000\n",
       "Polen       7866.000\n",
       "USA         8897.000\n",
       "UK           343.445\n",
       "Russland     657.545\n",
       "Syria        343.000\n",
       "Jordan       556.000\n",
       "Name: meme, dtype: float64"
      ]
     },
     "execution_count": 51,
     "metadata": {},
     "output_type": "execute_result"
    }
   ],
   "source": [
    "dataseries"
   ]
  },
  {
   "cell_type": "code",
   "execution_count": 52,
   "id": "07ee971a",
   "metadata": {},
   "outputs": [],
   "source": [
    "dataseries.iloc[-3]=555"
   ]
  },
  {
   "cell_type": "code",
   "execution_count": 53,
   "id": "feb09b57",
   "metadata": {},
   "outputs": [
    {
     "data": {
      "text/plain": [
       "Canada       345.000\n",
       "Germany      666.000\n",
       "Polen       7866.000\n",
       "USA         8897.000\n",
       "UK           343.445\n",
       "Russland     555.000\n",
       "Syria        343.000\n",
       "Jordan       556.000\n",
       "Name: meme, dtype: float64"
      ]
     },
     "execution_count": 53,
     "metadata": {},
     "output_type": "execute_result"
    }
   ],
   "source": [
    "dataseries"
   ]
  },
  {
   "cell_type": "code",
   "execution_count": 55,
   "id": "70826005",
   "metadata": {},
   "outputs": [],
   "source": [
    "pd.read_csv?"
   ]
  },
  {
   "cell_type": "code",
   "execution_count": 56,
   "id": "358ee629",
   "metadata": {},
   "outputs": [],
   "source": [
    "cor = pd.read_csv('Downloads/2020_gender_survey.csv') "
   ]
  },
  {
   "cell_type": "code",
   "execution_count": 57,
   "id": "6ea45118",
   "metadata": {},
   "outputs": [
    {
     "data": {
      "text/html": [
       "<div>\n",
       "<style scoped>\n",
       "    .dataframe tbody tr th:only-of-type {\n",
       "        vertical-align: middle;\n",
       "    }\n",
       "\n",
       "    .dataframe tbody tr th {\n",
       "        vertical-align: top;\n",
       "    }\n",
       "\n",
       "    .dataframe thead th {\n",
       "        text-align: right;\n",
       "    }\n",
       "</style>\n",
       "<table border=\"1\" class=\"dataframe\">\n",
       "  <thead>\n",
       "    <tr style=\"text-align: right;\">\n",
       "      <th></th>\n",
       "      <th>Geography</th>\n",
       "      <th>Year</th>\n",
       "      <th>Question Code</th>\n",
       "      <th>Question Text</th>\n",
       "      <th>Response Category</th>\n",
       "      <th>Response Variable</th>\n",
       "      <th>Gender</th>\n",
       "      <th>Value</th>\n",
       "    </tr>\n",
       "  </thead>\n",
       "  <tbody>\n",
       "    <tr>\n",
       "      <th>0</th>\n",
       "      <td>Germany</td>\n",
       "      <td>2020</td>\n",
       "      <td>C.2</td>\n",
       "      <td>As a result of the coronavirus (COVID-19) pand...</td>\n",
       "      <td>Lost a job</td>\n",
       "      <td>d6_job</td>\n",
       "      <td>male</td>\n",
       "      <td>40.0</td>\n",
       "    </tr>\n",
       "    <tr>\n",
       "      <th>1</th>\n",
       "      <td>Germany</td>\n",
       "      <td>2020</td>\n",
       "      <td>C.2</td>\n",
       "      <td>As a result of the coronavirus (COVID-19) pand...</td>\n",
       "      <td>Lost a job</td>\n",
       "      <td>d6_job</td>\n",
       "      <td>female</td>\n",
       "      <td>40.0</td>\n",
       "    </tr>\n",
       "    <tr>\n",
       "      <th>2</th>\n",
       "      <td>Germany</td>\n",
       "      <td>2020</td>\n",
       "      <td>C.2</td>\n",
       "      <td>As a result of the coronavirus (COVID-19) pand...</td>\n",
       "      <td>Lost a job</td>\n",
       "      <td>d6_job</td>\n",
       "      <td>combined</td>\n",
       "      <td>40.0</td>\n",
       "    </tr>\n",
       "    <tr>\n",
       "      <th>3</th>\n",
       "      <td>United States of America</td>\n",
       "      <td>2020</td>\n",
       "      <td>C.2</td>\n",
       "      <td>As a result of the coronavirus (COVID-19) pand...</td>\n",
       "      <td>Lost a job</td>\n",
       "      <td>d6_job</td>\n",
       "      <td>male</td>\n",
       "      <td>23.0</td>\n",
       "    </tr>\n",
       "    <tr>\n",
       "      <th>4</th>\n",
       "      <td>United States of America</td>\n",
       "      <td>2020</td>\n",
       "      <td>C.2</td>\n",
       "      <td>As a result of the coronavirus (COVID-19) pand...</td>\n",
       "      <td>Lost a job</td>\n",
       "      <td>d6_job</td>\n",
       "      <td>female</td>\n",
       "      <td>19.0</td>\n",
       "    </tr>\n",
       "  </tbody>\n",
       "</table>\n",
       "</div>"
      ],
      "text/plain": [
       "                  Geography  Year Question Code  \\\n",
       "0                   Germany  2020           C.2   \n",
       "1                   Germany  2020           C.2   \n",
       "2                   Germany  2020           C.2   \n",
       "3  United States of America  2020           C.2   \n",
       "4  United States of America  2020           C.2   \n",
       "\n",
       "                                       Question Text Response Category  \\\n",
       "0  As a result of the coronavirus (COVID-19) pand...        Lost a job   \n",
       "1  As a result of the coronavirus (COVID-19) pand...        Lost a job   \n",
       "2  As a result of the coronavirus (COVID-19) pand...        Lost a job   \n",
       "3  As a result of the coronavirus (COVID-19) pand...        Lost a job   \n",
       "4  As a result of the coronavirus (COVID-19) pand...        Lost a job   \n",
       "\n",
       "  Response Variable    Gender  Value  \n",
       "0            d6_job      male   40.0  \n",
       "1            d6_job    female   40.0  \n",
       "2            d6_job  combined   40.0  \n",
       "3            d6_job      male   23.0  \n",
       "4            d6_job    female   19.0  "
      ]
     },
     "execution_count": 57,
     "metadata": {},
     "output_type": "execute_result"
    }
   ],
   "source": [
    "cor.head()"
   ]
  },
  {
   "cell_type": "code",
   "execution_count": 58,
   "id": "ed408451",
   "metadata": {},
   "outputs": [
    {
     "data": {
      "text/plain": [
       "(12, 8)"
      ]
     },
     "execution_count": 58,
     "metadata": {},
     "output_type": "execute_result"
    }
   ],
   "source": [
    "cor.shape"
   ]
  },
  {
   "cell_type": "code",
   "execution_count": 59,
   "id": "2a6f9d29",
   "metadata": {},
   "outputs": [
    {
     "data": {
      "text/html": [
       "<div>\n",
       "<style scoped>\n",
       "    .dataframe tbody tr th:only-of-type {\n",
       "        vertical-align: middle;\n",
       "    }\n",
       "\n",
       "    .dataframe tbody tr th {\n",
       "        vertical-align: top;\n",
       "    }\n",
       "\n",
       "    .dataframe thead th {\n",
       "        text-align: right;\n",
       "    }\n",
       "</style>\n",
       "<table border=\"1\" class=\"dataframe\">\n",
       "  <thead>\n",
       "    <tr style=\"text-align: right;\">\n",
       "      <th></th>\n",
       "      <th>Year</th>\n",
       "      <th>Value</th>\n",
       "    </tr>\n",
       "  </thead>\n",
       "  <tbody>\n",
       "    <tr>\n",
       "      <th>count</th>\n",
       "      <td>12.0</td>\n",
       "      <td>12.000000</td>\n",
       "    </tr>\n",
       "    <tr>\n",
       "      <th>mean</th>\n",
       "      <td>2020.0</td>\n",
       "      <td>25.750000</td>\n",
       "    </tr>\n",
       "    <tr>\n",
       "      <th>std</th>\n",
       "      <td>0.0</td>\n",
       "      <td>8.802118</td>\n",
       "    </tr>\n",
       "    <tr>\n",
       "      <th>min</th>\n",
       "      <td>2020.0</td>\n",
       "      <td>18.000000</td>\n",
       "    </tr>\n",
       "    <tr>\n",
       "      <th>25%</th>\n",
       "      <td>2020.0</td>\n",
       "      <td>19.750000</td>\n",
       "    </tr>\n",
       "    <tr>\n",
       "      <th>50%</th>\n",
       "      <td>2020.0</td>\n",
       "      <td>22.000000</td>\n",
       "    </tr>\n",
       "    <tr>\n",
       "      <th>75%</th>\n",
       "      <td>2020.0</td>\n",
       "      <td>28.750000</td>\n",
       "    </tr>\n",
       "    <tr>\n",
       "      <th>max</th>\n",
       "      <td>2020.0</td>\n",
       "      <td>40.000000</td>\n",
       "    </tr>\n",
       "  </tbody>\n",
       "</table>\n",
       "</div>"
      ],
      "text/plain": [
       "         Year      Value\n",
       "count    12.0  12.000000\n",
       "mean   2020.0  25.750000\n",
       "std       0.0   8.802118\n",
       "min    2020.0  18.000000\n",
       "25%    2020.0  19.750000\n",
       "50%    2020.0  22.000000\n",
       "75%    2020.0  28.750000\n",
       "max    2020.0  40.000000"
      ]
     },
     "execution_count": 59,
     "metadata": {},
     "output_type": "execute_result"
    }
   ],
   "source": [
    "cor.describe()"
   ]
  },
  {
   "cell_type": "code",
   "execution_count": null,
   "id": "fdcd767c",
   "metadata": {},
   "outputs": [],
   "source": [
    "#FB dataset Showing charts for: 2020, 2021•United States of America, Saudi Arabia, France, Switzerland, Russia, Germany, United Kingdom, United Arab Emirates, Morocco, Malaysia•44 questions"
   ]
  },
  {
   "cell_type": "code",
   "execution_count": 60,
   "id": "10daa0e7",
   "metadata": {},
   "outputs": [],
   "source": [
    "gender_survey=pd.read_csv('Downloads/2020_2021_gen_sur.csv') "
   ]
  },
  {
   "cell_type": "code",
   "execution_count": 61,
   "id": "de001782",
   "metadata": {},
   "outputs": [
    {
     "data": {
      "text/html": [
       "<div>\n",
       "<style scoped>\n",
       "    .dataframe tbody tr th:only-of-type {\n",
       "        vertical-align: middle;\n",
       "    }\n",
       "\n",
       "    .dataframe tbody tr th {\n",
       "        vertical-align: top;\n",
       "    }\n",
       "\n",
       "    .dataframe thead th {\n",
       "        text-align: right;\n",
       "    }\n",
       "</style>\n",
       "<table border=\"1\" class=\"dataframe\">\n",
       "  <thead>\n",
       "    <tr style=\"text-align: right;\">\n",
       "      <th></th>\n",
       "      <th>Geography</th>\n",
       "      <th>Year</th>\n",
       "      <th>Question Code</th>\n",
       "      <th>Question Text</th>\n",
       "      <th>Response Category</th>\n",
       "      <th>Response Variable</th>\n",
       "      <th>Gender</th>\n",
       "      <th>Value</th>\n",
       "    </tr>\n",
       "  </thead>\n",
       "  <tbody>\n",
       "    <tr>\n",
       "      <th>0</th>\n",
       "      <td>United States of America</td>\n",
       "      <td>2020</td>\n",
       "      <td>C.2</td>\n",
       "      <td>As a result of the coronavirus (COVID-19) pand...</td>\n",
       "      <td>Unable to seek medical care</td>\n",
       "      <td>d6_health</td>\n",
       "      <td>male</td>\n",
       "      <td>18.0</td>\n",
       "    </tr>\n",
       "    <tr>\n",
       "      <th>1</th>\n",
       "      <td>United States of America</td>\n",
       "      <td>2020</td>\n",
       "      <td>C.2</td>\n",
       "      <td>As a result of the coronavirus (COVID-19) pand...</td>\n",
       "      <td>Unable to seek medical care</td>\n",
       "      <td>d6_health</td>\n",
       "      <td>female</td>\n",
       "      <td>19.0</td>\n",
       "    </tr>\n",
       "    <tr>\n",
       "      <th>2</th>\n",
       "      <td>United States of America</td>\n",
       "      <td>2020</td>\n",
       "      <td>C.2</td>\n",
       "      <td>As a result of the coronavirus (COVID-19) pand...</td>\n",
       "      <td>Unable to seek medical care</td>\n",
       "      <td>d6_health</td>\n",
       "      <td>combined</td>\n",
       "      <td>18.0</td>\n",
       "    </tr>\n",
       "    <tr>\n",
       "      <th>3</th>\n",
       "      <td>Saudi Arabia</td>\n",
       "      <td>2020</td>\n",
       "      <td>C.2</td>\n",
       "      <td>As a result of the coronavirus (COVID-19) pand...</td>\n",
       "      <td>Unable to seek medical care</td>\n",
       "      <td>d6_health</td>\n",
       "      <td>male</td>\n",
       "      <td>15.0</td>\n",
       "    </tr>\n",
       "    <tr>\n",
       "      <th>4</th>\n",
       "      <td>Saudi Arabia</td>\n",
       "      <td>2020</td>\n",
       "      <td>C.2</td>\n",
       "      <td>As a result of the coronavirus (COVID-19) pand...</td>\n",
       "      <td>Unable to seek medical care</td>\n",
       "      <td>d6_health</td>\n",
       "      <td>female</td>\n",
       "      <td>19.0</td>\n",
       "    </tr>\n",
       "  </tbody>\n",
       "</table>\n",
       "</div>"
      ],
      "text/plain": [
       "                  Geography  Year Question Code  \\\n",
       "0  United States of America  2020           C.2   \n",
       "1  United States of America  2020           C.2   \n",
       "2  United States of America  2020           C.2   \n",
       "3              Saudi Arabia  2020           C.2   \n",
       "4              Saudi Arabia  2020           C.2   \n",
       "\n",
       "                                       Question Text  \\\n",
       "0  As a result of the coronavirus (COVID-19) pand...   \n",
       "1  As a result of the coronavirus (COVID-19) pand...   \n",
       "2  As a result of the coronavirus (COVID-19) pand...   \n",
       "3  As a result of the coronavirus (COVID-19) pand...   \n",
       "4  As a result of the coronavirus (COVID-19) pand...   \n",
       "\n",
       "             Response Category Response Variable    Gender  Value  \n",
       "0  Unable to seek medical care         d6_health      male   18.0  \n",
       "1  Unable to seek medical care         d6_health    female   19.0  \n",
       "2  Unable to seek medical care         d6_health  combined   18.0  \n",
       "3  Unable to seek medical care         d6_health      male   15.0  \n",
       "4  Unable to seek medical care         d6_health    female   19.0  "
      ]
     },
     "execution_count": 61,
     "metadata": {},
     "output_type": "execute_result"
    }
   ],
   "source": [
    "gender_survey.head()"
   ]
  },
  {
   "cell_type": "code",
   "execution_count": 64,
   "id": "36b89df1",
   "metadata": {},
   "outputs": [
    {
     "data": {
      "text/plain": [
       "(1350, 8)"
      ]
     },
     "execution_count": 64,
     "metadata": {},
     "output_type": "execute_result"
    }
   ],
   "source": [
    "gender_survey.shape"
   ]
  },
  {
   "cell_type": "code",
   "execution_count": 65,
   "id": "1f68b8bb",
   "metadata": {},
   "outputs": [
    {
     "name": "stdout",
     "output_type": "stream",
     "text": [
      "<class 'pandas.core.frame.DataFrame'>\n",
      "RangeIndex: 1350 entries, 0 to 1349\n",
      "Data columns (total 8 columns):\n",
      " #   Column             Non-Null Count  Dtype  \n",
      "---  ------             --------------  -----  \n",
      " 0   Geography          1350 non-null   object \n",
      " 1   Year               1350 non-null   int64  \n",
      " 2   Question Code      1350 non-null   object \n",
      " 3   Question Text      1350 non-null   object \n",
      " 4   Response Category  1350 non-null   object \n",
      " 5   Response Variable  1350 non-null   object \n",
      " 6   Gender             1350 non-null   object \n",
      " 7   Value              1350 non-null   float64\n",
      "dtypes: float64(1), int64(1), object(6)\n",
      "memory usage: 84.5+ KB\n"
     ]
    }
   ],
   "source": [
    "gender_survey.info()"
   ]
  },
  {
   "cell_type": "code",
   "execution_count": 66,
   "id": "44580e8f",
   "metadata": {},
   "outputs": [
    {
     "data": {
      "text/html": [
       "<div>\n",
       "<style scoped>\n",
       "    .dataframe tbody tr th:only-of-type {\n",
       "        vertical-align: middle;\n",
       "    }\n",
       "\n",
       "    .dataframe tbody tr th {\n",
       "        vertical-align: top;\n",
       "    }\n",
       "\n",
       "    .dataframe thead th {\n",
       "        text-align: right;\n",
       "    }\n",
       "</style>\n",
       "<table border=\"1\" class=\"dataframe\">\n",
       "  <thead>\n",
       "    <tr style=\"text-align: right;\">\n",
       "      <th></th>\n",
       "      <th>Year</th>\n",
       "      <th>Value</th>\n",
       "    </tr>\n",
       "  </thead>\n",
       "  <tbody>\n",
       "    <tr>\n",
       "      <th>count</th>\n",
       "      <td>1350.000000</td>\n",
       "      <td>1350.000000</td>\n",
       "    </tr>\n",
       "    <tr>\n",
       "      <th>mean</th>\n",
       "      <td>2020.511111</td>\n",
       "      <td>23.881481</td>\n",
       "    </tr>\n",
       "    <tr>\n",
       "      <th>std</th>\n",
       "      <td>0.500062</td>\n",
       "      <td>15.954277</td>\n",
       "    </tr>\n",
       "    <tr>\n",
       "      <th>min</th>\n",
       "      <td>2020.000000</td>\n",
       "      <td>1.000000</td>\n",
       "    </tr>\n",
       "    <tr>\n",
       "      <th>25%</th>\n",
       "      <td>2020.000000</td>\n",
       "      <td>11.250000</td>\n",
       "    </tr>\n",
       "    <tr>\n",
       "      <th>50%</th>\n",
       "      <td>2021.000000</td>\n",
       "      <td>20.000000</td>\n",
       "    </tr>\n",
       "    <tr>\n",
       "      <th>75%</th>\n",
       "      <td>2021.000000</td>\n",
       "      <td>32.750000</td>\n",
       "    </tr>\n",
       "    <tr>\n",
       "      <th>max</th>\n",
       "      <td>2021.000000</td>\n",
       "      <td>80.000000</td>\n",
       "    </tr>\n",
       "  </tbody>\n",
       "</table>\n",
       "</div>"
      ],
      "text/plain": [
       "              Year        Value\n",
       "count  1350.000000  1350.000000\n",
       "mean   2020.511111    23.881481\n",
       "std       0.500062    15.954277\n",
       "min    2020.000000     1.000000\n",
       "25%    2020.000000    11.250000\n",
       "50%    2021.000000    20.000000\n",
       "75%    2021.000000    32.750000\n",
       "max    2021.000000    80.000000"
      ]
     },
     "execution_count": 66,
     "metadata": {},
     "output_type": "execute_result"
    }
   ],
   "source": [
    "gender_survey.describe()"
   ]
  },
  {
   "cell_type": "code",
   "execution_count": 68,
   "id": "148a3fc0",
   "metadata": {},
   "outputs": [
    {
     "data": {
      "text/plain": [
       "count     1350\n",
       "unique       3\n",
       "top       male\n",
       "freq       450\n",
       "Name: Gender, dtype: object"
      ]
     },
     "execution_count": 68,
     "metadata": {},
     "output_type": "execute_result"
    }
   ],
   "source": [
    "gender_survey['Gender'].describe()"
   ]
  },
  {
   "cell_type": "code",
   "execution_count": 71,
   "id": "903d7b90",
   "metadata": {},
   "outputs": [
    {
     "data": {
      "text/plain": [
       "<AxesSubplot:ylabel='Density'>"
      ]
     },
     "execution_count": 71,
     "metadata": {},
     "output_type": "execute_result"
    },
    {
     "data": {
      "image/png": "[encoded data removed]",
      "text/plain": [
       "<Figure size 1008x432 with 1 Axes>"
      ]
     },
     "metadata": {
      "needs_background": "light"
     },
     "output_type": "display_data"
    }
   ],
   "source": [
    "gender_survey['Value'].plot(kind='density', figsize=(14,6)) #density plot"
   ]
  },
  {
   "cell_type": "code",
   "execution_count": 87,
   "id": "6b454301",
   "metadata": {},
   "outputs": [
    {
     "data": {
      "text/plain": [
       "<AxesSubplot:ylabel='Gender'>"
      ]
     },
     "execution_count": 87,
     "metadata": {},
     "output_type": "execute_result"
    },
    {
     "data": {
      "image/png": "[encoded data removed]",
      "text/plain": [
       "<Figure size 432x432 with 1 Axes>"
      ]
     },
     "metadata": {},
     "output_type": "display_data"
    }
   ],
   "source": [
    "gender_survey ['Gender'].value_counts().plot(kind='pie', figsize=(6,6))"
   ]
  },
  {
   "cell_type": "code",
   "execution_count": 78,
   "id": "0bf9f414",
   "metadata": {},
   "outputs": [
    {
     "data": {
      "text/html": [
       "<div>\n",
       "<style scoped>\n",
       "    .dataframe tbody tr th:only-of-type {\n",
       "        vertical-align: middle;\n",
       "    }\n",
       "\n",
       "    .dataframe tbody tr th {\n",
       "        vertical-align: top;\n",
       "    }\n",
       "\n",
       "    .dataframe thead th {\n",
       "        text-align: right;\n",
       "    }\n",
       "</style>\n",
       "<table border=\"1\" class=\"dataframe\">\n",
       "  <thead>\n",
       "    <tr style=\"text-align: right;\">\n",
       "      <th></th>\n",
       "      <th>Year</th>\n",
       "      <th>Value</th>\n",
       "    </tr>\n",
       "  </thead>\n",
       "  <tbody>\n",
       "    <tr>\n",
       "      <th>Year</th>\n",
       "      <td>1.000000</td>\n",
       "      <td>-0.123877</td>\n",
       "    </tr>\n",
       "    <tr>\n",
       "      <th>Value</th>\n",
       "      <td>-0.123877</td>\n",
       "      <td>1.000000</td>\n",
       "    </tr>\n",
       "  </tbody>\n",
       "</table>\n",
       "</div>"
      ],
      "text/plain": [
       "           Year     Value\n",
       "Year   1.000000 -0.123877\n",
       "Value -0.123877  1.000000"
      ]
     },
     "execution_count": 78,
     "metadata": {},
     "output_type": "execute_result"
    }
   ],
   "source": [
    "corr1 = gender_survey.corr() \n",
    "corr1"
   ]
  },
  {
   "cell_type": "code",
   "execution_count": 79,
   "id": "31a463eb",
   "metadata": {},
   "outputs": [
    {
     "data": {
      "image/png": "[encoded data removed]",
      "text/plain": [
       "<Figure size 576x576 with 1 Axes>"
      ]
     },
     "metadata": {
      "needs_background": "light"
     },
     "output_type": "display_data"
    }
   ],
   "source": [
    "fig = plt.figure(figsize=(8,8))\n",
    "plt.matshow(corr1, cmap='RdBu',fignum=fig.number)\n",
    "plt.xticks(range(len(corr1.columns)), corr1.columns, rotation='vertical');\n",
    "plt.yticks(range(len(corr1.columns)), corr1.columns);\n",
    "#the diagnol, which is blue, the corrlation=1, "
   ]
  },
  {
   "cell_type": "code",
   "execution_count": 85,
   "id": "1be27688",
   "metadata": {},
   "outputs": [
    {
     "data": {
      "text/plain": [
       "<AxesSubplot:xlabel='Year', ylabel='Response Category'>"
      ]
     },
     "execution_count": 85,
     "metadata": {},
     "output_type": "execute_result"
    },
    {
     "data": {
      "image/png": "[encoded data removed]",
      "text/plain": [
       "<Figure size 432x432 with 1 Axes>"
      ]
     },
     "metadata": {
      "needs_background": "light"
     },
     "output_type": "display_data"
    }
   ],
   "source": [
    "gender_survey.plot(kind='scatter', x='Year', y='Response Category', figsize=(6,6))"
   ]
  },
  {
   "cell_type": "code",
   "execution_count": 97,
   "id": "41511f01",
   "metadata": {},
   "outputs": [],
   "source": [
    "x= gender_survey.loc[gender_survey['Geography']== 'Germany'] #germany"
   ]
  },
  {
   "cell_type": "code",
   "execution_count": 98,
   "id": "d2f80362",
   "metadata": {},
   "outputs": [
    {
     "data": {
      "text/html": [
       "<div>\n",
       "<style scoped>\n",
       "    .dataframe tbody tr th:only-of-type {\n",
       "        vertical-align: middle;\n",
       "    }\n",
       "\n",
       "    .dataframe tbody tr th {\n",
       "        vertical-align: top;\n",
       "    }\n",
       "\n",
       "    .dataframe thead th {\n",
       "        text-align: right;\n",
       "    }\n",
       "</style>\n",
       "<table border=\"1\" class=\"dataframe\">\n",
       "  <thead>\n",
       "    <tr style=\"text-align: right;\">\n",
       "      <th></th>\n",
       "      <th>Geography</th>\n",
       "      <th>Year</th>\n",
       "      <th>Question Code</th>\n",
       "      <th>Question Text</th>\n",
       "      <th>Response Category</th>\n",
       "      <th>Response Variable</th>\n",
       "      <th>Gender</th>\n",
       "      <th>Value</th>\n",
       "    </tr>\n",
       "  </thead>\n",
       "  <tbody>\n",
       "    <tr>\n",
       "      <th>15</th>\n",
       "      <td>Germany</td>\n",
       "      <td>2020</td>\n",
       "      <td>C.2</td>\n",
       "      <td>As a result of the coronavirus (COVID-19) pand...</td>\n",
       "      <td>Unable to seek medical care</td>\n",
       "      <td>d6_health</td>\n",
       "      <td>male</td>\n",
       "      <td>30.0</td>\n",
       "    </tr>\n",
       "    <tr>\n",
       "      <th>16</th>\n",
       "      <td>Germany</td>\n",
       "      <td>2020</td>\n",
       "      <td>C.2</td>\n",
       "      <td>As a result of the coronavirus (COVID-19) pand...</td>\n",
       "      <td>Unable to seek medical care</td>\n",
       "      <td>d6_health</td>\n",
       "      <td>female</td>\n",
       "      <td>29.0</td>\n",
       "    </tr>\n",
       "    <tr>\n",
       "      <th>17</th>\n",
       "      <td>Germany</td>\n",
       "      <td>2020</td>\n",
       "      <td>C.2</td>\n",
       "      <td>As a result of the coronavirus (COVID-19) pand...</td>\n",
       "      <td>Unable to seek medical care</td>\n",
       "      <td>d6_health</td>\n",
       "      <td>combined</td>\n",
       "      <td>29.0</td>\n",
       "    </tr>\n",
       "    <tr>\n",
       "      <th>45</th>\n",
       "      <td>Germany</td>\n",
       "      <td>2020</td>\n",
       "      <td>C.2</td>\n",
       "      <td>As a result of the coronavirus (COVID-19) pand...</td>\n",
       "      <td>Isolate or follow a quarantine order</td>\n",
       "      <td>d6_isolate</td>\n",
       "      <td>male</td>\n",
       "      <td>53.0</td>\n",
       "    </tr>\n",
       "    <tr>\n",
       "      <th>46</th>\n",
       "      <td>Germany</td>\n",
       "      <td>2020</td>\n",
       "      <td>C.2</td>\n",
       "      <td>As a result of the coronavirus (COVID-19) pand...</td>\n",
       "      <td>Isolate or follow a quarantine order</td>\n",
       "      <td>d6_isolate</td>\n",
       "      <td>female</td>\n",
       "      <td>53.0</td>\n",
       "    </tr>\n",
       "  </tbody>\n",
       "</table>\n",
       "</div>"
      ],
      "text/plain": [
       "   Geography  Year Question Code  \\\n",
       "15   Germany  2020           C.2   \n",
       "16   Germany  2020           C.2   \n",
       "17   Germany  2020           C.2   \n",
       "45   Germany  2020           C.2   \n",
       "46   Germany  2020           C.2   \n",
       "\n",
       "                                        Question Text  \\\n",
       "15  As a result of the coronavirus (COVID-19) pand...   \n",
       "16  As a result of the coronavirus (COVID-19) pand...   \n",
       "17  As a result of the coronavirus (COVID-19) pand...   \n",
       "45  As a result of the coronavirus (COVID-19) pand...   \n",
       "46  As a result of the coronavirus (COVID-19) pand...   \n",
       "\n",
       "                       Response Category Response Variable    Gender  Value  \n",
       "15           Unable to seek medical care         d6_health      male   30.0  \n",
       "16           Unable to seek medical care         d6_health    female   29.0  \n",
       "17           Unable to seek medical care         d6_health  combined   29.0  \n",
       "45  Isolate or follow a quarantine order        d6_isolate      male   53.0  \n",
       "46  Isolate or follow a quarantine order        d6_isolate    female   53.0  "
      ]
     },
     "execution_count": 98,
     "metadata": {},
     "output_type": "execute_result"
    }
   ],
   "source": [
    "x.head()"
   ]
  },
  {
   "cell_type": "code",
   "execution_count": 103,
   "id": "08f32cb9",
   "metadata": {},
   "outputs": [
    {
     "data": {
      "text/plain": [
       "<AxesSubplot:xlabel='Gender', ylabel='Value'>"
      ]
     },
     "execution_count": 103,
     "metadata": {},
     "output_type": "execute_result"
    },
    {
     "data": {
      "image/png": "[encoded data removed]",
      "text/plain": [
       "<Figure size 432x432 with 1 Axes>"
      ]
     },
     "metadata": {
      "needs_background": "light"
     },
     "output_type": "display_data"
    }
   ],
   "source": [
    "x.plot(kind='scatter', x='Gender', y='Value', figsize=(6,6))"
   ]
  },
  {
   "cell_type": "code",
   "execution_count": 106,
   "id": "14077043",
   "metadata": {},
   "outputs": [
    {
     "name": "stdout",
     "output_type": "stream",
     "text": [
      "Requirement already satisfied: matplotlib in ./miniforge3/envs/ml1/lib/python3.8/site-packages (3.5.0)\n",
      "Requirement already satisfied: cycler>=0.10 in ./miniforge3/envs/ml1/lib/python3.8/site-packages (from matplotlib) (0.11.0)\n",
      "Requirement already satisfied: fonttools>=4.22.0 in ./miniforge3/envs/ml1/lib/python3.8/site-packages (from matplotlib) (4.25.0)\n",
      "Requirement already satisfied: kiwisolver>=1.0.1 in ./miniforge3/envs/ml1/lib/python3.8/site-packages (from matplotlib) (1.3.1)\n",
      "Requirement already satisfied: numpy>=1.17 in ./miniforge3/envs/ml1/lib/python3.8/site-packages (from matplotlib) (1.19.5)\n",
      "Requirement already satisfied: packaging>=20.0 in ./miniforge3/envs/ml1/lib/python3.8/site-packages (from matplotlib) (21.3)\n",
      "Requirement already satisfied: pillow>=6.2.0 in ./miniforge3/envs/ml1/lib/python3.8/site-packages (from matplotlib) (9.0.0)\n",
      "Requirement already satisfied: pyparsing>=2.2.1 in ./miniforge3/envs/ml1/lib/python3.8/site-packages (from matplotlib) (3.0.4)\n",
      "Requirement already satisfied: python-dateutil>=2.7 in ./miniforge3/envs/ml1/lib/python3.8/site-packages (from matplotlib) (2.8.1)\n",
      "Requirement already satisfied: six>=1.5 in ./miniforge3/envs/ml1/lib/python3.8/site-packages (from python-dateutil>=2.7->matplotlib) (1.15.0)\n",
      "Note: you may need to restart the kernel to use updated packages.\n"
     ]
    }
   ],
   "source": [
    "pip install matplotlib"
   ]
  },
  {
   "cell_type": "code",
   "execution_count": 107,
   "id": "1f1a8736",
   "metadata": {},
   "outputs": [
    {
     "name": "stdout",
     "output_type": "stream",
     "text": [
      "Collecting networkx\n",
      "  Downloading networkx-3.1-py3-none-any.whl (2.1 MB)\n",
      "\u001b[2K     \u001b[90m━━━━━━━━━━━━━━━━━━━━━━━━━━━━━━━━━━━━━━━━\u001b[0m \u001b[32m2.1/2.1 MB\u001b[0m \u001b[31m1.4 MB/s\u001b[0m eta \u001b[36m0:00:00\u001b[0m00:01\u001b[0m00:01\u001b[0m0m\n",
      "\u001b[?25hInstalling collected packages: networkx\n",
      "Successfully installed networkx-3.1\n",
      "Note: you may need to restart the kernel to use updated packages.\n"
     ]
    }
   ],
   "source": [
    "pip install networkx"
   ]
  },
  {
   "cell_type": "markdown",
   "id": "c9108569",
   "metadata": {},
   "source": [
    "# network graph learning:"
   ]
  },
  {
   "cell_type": "code",
   "execution_count": 109,
   "id": "edf51a30",
   "metadata": {},
   "outputs": [],
   "source": [
    "import networkx as nx\n"
   ]
  },
  {
   "cell_type": "code",
   "execution_count": 110,
   "id": "721962ea",
   "metadata": {},
   "outputs": [
    {
     "name": "stdout",
     "output_type": "stream",
     "text": [
      "Collecting pyvis\n",
      "  Downloading pyvis-0.3.2-py3-none-any.whl (756 kB)\n",
      "\u001b[2K     \u001b[90m━━━━━━━━━━━━━━━━━━━━━━━━━━━━━━━━━━━━━━━\u001b[0m \u001b[32m756.0/756.0 kB\u001b[0m \u001b[31m1.8 MB/s\u001b[0m eta \u001b[36m0:00:00\u001b[0ma \u001b[36m0:00:01\u001b[0m\n",
      "\u001b[?25hRequirement already satisfied: ipython>=5.3.0 in ./miniforge3/envs/ml1/lib/python3.8/site-packages (from pyvis) (7.29.0)\n",
      "Requirement already satisfied: jinja2>=2.9.6 in ./miniforge3/envs/ml1/lib/python3.8/site-packages (from pyvis) (2.10.3)\n",
      "Collecting jsonpickle>=1.4.1 (from pyvis)\n",
      "  Downloading jsonpickle-3.0.1-py2.py3-none-any.whl (40 kB)\n",
      "\u001b[2K     \u001b[90m━━━━━━━━━━━━━━━━━━━━━━━━━━━━━━━━━━━━━━━━\u001b[0m \u001b[32m40.5/40.5 kB\u001b[0m \u001b[31m1.3 MB/s\u001b[0m eta \u001b[36m0:00:00\u001b[0m\n",
      "\u001b[?25hRequirement already satisfied: networkx>=1.11 in ./miniforge3/envs/ml1/lib/python3.8/site-packages (from pyvis) (3.1)\n",
      "Requirement already satisfied: setuptools>=18.5 in ./miniforge3/envs/ml1/lib/python3.8/site-packages (from ipython>=5.3.0->pyvis) (58.0.4)\n",
      "Requirement already satisfied: jedi>=0.16 in ./miniforge3/envs/ml1/lib/python3.8/site-packages (from ipython>=5.3.0->pyvis) (0.18.0)\n",
      "Requirement already satisfied: decorator in ./miniforge3/envs/ml1/lib/python3.8/site-packages (from ipython>=5.3.0->pyvis) (5.1.0)\n",
      "Requirement already satisfied: pickleshare in ./miniforge3/envs/ml1/lib/python3.8/site-packages (from ipython>=5.3.0->pyvis) (0.7.5)\n",
      "Requirement already satisfied: traitlets>=4.2 in ./miniforge3/envs/ml1/lib/python3.8/site-packages (from ipython>=5.3.0->pyvis) (5.1.1)\n",
      "Requirement already satisfied: prompt-toolkit!=3.0.0,!=3.0.1,<3.1.0,>=2.0.0 in ./miniforge3/envs/ml1/lib/python3.8/site-packages (from ipython>=5.3.0->pyvis) (3.0.20)\n",
      "Requirement already satisfied: pygments in ./miniforge3/envs/ml1/lib/python3.8/site-packages (from ipython>=5.3.0->pyvis) (2.10.0)\n",
      "Requirement already satisfied: backcall in ./miniforge3/envs/ml1/lib/python3.8/site-packages (from ipython>=5.3.0->pyvis) (0.2.0)\n",
      "Requirement already satisfied: matplotlib-inline in ./miniforge3/envs/ml1/lib/python3.8/site-packages (from ipython>=5.3.0->pyvis) (0.1.2)\n",
      "Requirement already satisfied: pexpect>4.3 in ./miniforge3/envs/ml1/lib/python3.8/site-packages (from ipython>=5.3.0->pyvis) (4.8.0)\n",
      "Requirement already satisfied: appnope in ./miniforge3/envs/ml1/lib/python3.8/site-packages (from ipython>=5.3.0->pyvis) (0.1.2)\n",
      "Requirement already satisfied: MarkupSafe>=0.23 in ./miniforge3/envs/ml1/lib/python3.8/site-packages (from jinja2>=2.9.6->pyvis) (1.1.1)\n",
      "Requirement already satisfied: parso<0.9.0,>=0.8.0 in ./miniforge3/envs/ml1/lib/python3.8/site-packages (from jedi>=0.16->ipython>=5.3.0->pyvis) (0.8.3)\n",
      "Requirement already satisfied: ptyprocess>=0.5 in ./miniforge3/envs/ml1/lib/python3.8/site-packages (from pexpect>4.3->ipython>=5.3.0->pyvis) (0.7.0)\n",
      "Requirement already satisfied: wcwidth in ./miniforge3/envs/ml1/lib/python3.8/site-packages (from prompt-toolkit!=3.0.0,!=3.0.1,<3.1.0,>=2.0.0->ipython>=5.3.0->pyvis) (0.2.5)\n",
      "Installing collected packages: jsonpickle, pyvis\n",
      "Successfully installed jsonpickle-3.0.1 pyvis-0.3.2\n",
      "Note: you may need to restart the kernel to use updated packages.\n"
     ]
    }
   ],
   "source": [
    "pip install pyvis"
   ]
  },
  {
   "cell_type": "code",
   "execution_count": 111,
   "id": "89fb2a1b",
   "metadata": {},
   "outputs": [],
   "source": [
    "rels = [\n",
    "    \n",
    "    [\"Fred\", \"George\"],\n",
    "    [\"Harry\", \"Rita\"],\n",
    "    [\"Fred\", \"Ginny\"],\n",
    "    [\"Tom\", \"Ginny\"],\n",
    "    [\"Harry\", \"Ginny\"]\n",
    "    \n",
    "]#these are nodes\n",
    "\n"
   ]
  },
  {
   "cell_type": "code",
   "execution_count": 114,
   "id": "8956ef89",
   "metadata": {},
   "outputs": [],
   "source": [
    "#In order to begin working with this data in NetworkX,\n",
    "#we need to first populate a NetworkX Graph class. It is Pythonic to call this variable G.\n",
    "G = nx.Graph()"
   ]
  },
  {
   "cell_type": "code",
   "execution_count": 115,
   "id": "54a3ee5d",
   "metadata": {},
   "outputs": [],
   "source": [
    "#use the .add_edge() method from the Graph class.\n",
    "#This will take two mandatory arguments: 1) the source node and 2) the destination node.\n",
    "for rel in rels:\n",
    "    source, dest = rel\n",
    "    G.add_edge(source, dest)\n"
   ]
  },
  {
   "cell_type": "code",
   "execution_count": 116,
   "id": "5ae731e5",
   "metadata": {},
   "outputs": [
    {
     "data": {
      "image/png": "[encoded data removed]",
      "text/plain": [
       "<Figure size 432x288 with 1 Axes>"
      ]
     },
     "metadata": {},
     "output_type": "display_data"
    }
   ],
   "source": [
    "#draw_networkx() function to create a plot in memory,This will take one argument, \n",
    "#the graph of nodes we wish to visualize. \n",
    "nx.draw_networkx(G)\n",
    "plt.show()"
   ]
  },
  {
   "cell_type": "code",
   "execution_count": 117,
   "id": "f1e2723d",
   "metadata": {},
   "outputs": [
    {
     "data": {
      "image/png": "[encoded data removed]",
      "text/plain": [
       "<Figure size 432x288 with 1 Axes>"
      ]
     },
     "metadata": {},
     "output_type": "display_data"
    }
   ],
   "source": [
    "#this is the code together\n",
    "G = nx.Graph()\n",
    "G.add_edges_from(rels)\n",
    "nx.draw_networkx(G)\n",
    "plt.show()"
   ]
  },
  {
   "cell_type": "code",
   "execution_count": 118,
   "id": "d31b5c2d",
   "metadata": {},
   "outputs": [
    {
     "data": {
      "image/png": "[encoded data removed]",
      "text/plain": [
       "<Figure size 432x288 with 1 Axes>"
      ]
     },
     "metadata": {},
     "output_type": "display_data"
    }
   ],
   "source": [
    "G = nx.DiGraph()\n",
    "G.add_edges_from(rels)\n",
    "nx.draw_networkx(G)\n",
    "plt.show()"
   ]
  },
  {
   "cell_type": "markdown",
   "id": "4ec5c75a",
   "metadata": {},
   "source": [
    "# resd data from csv and do colored graph "
   ]
  },
  {
   "cell_type": "code",
   "execution_count": 138,
   "id": "57c879e0",
   "metadata": {},
   "outputs": [],
   "source": [
    "import networkx as nx\n",
    "from pyvis.network import Network\n",
    "import pandas as pd\n",
    "from IPython.display import HTML\n"
   ]
  },
  {
   "cell_type": "code",
   "execution_count": 146,
   "id": "251e2436",
   "metadata": {},
   "outputs": [
    {
     "data": {
      "text/html": [
       "<div>\n",
       "<style scoped>\n",
       "    .dataframe tbody tr th:only-of-type {\n",
       "        vertical-align: middle;\n",
       "    }\n",
       "\n",
       "    .dataframe tbody tr th {\n",
       "        vertical-align: top;\n",
       "    }\n",
       "\n",
       "    .dataframe thead th {\n",
       "        text-align: right;\n",
       "    }\n",
       "</style>\n",
       "<table border=\"1\" class=\"dataframe\">\n",
       "  <thead>\n",
       "    <tr style=\"text-align: right;\">\n",
       "      <th></th>\n",
       "      <th>Unnamed: 0</th>\n",
       "      <th>name</th>\n",
       "      <th>house</th>\n",
       "      <th>color</th>\n",
       "    </tr>\n",
       "  </thead>\n",
       "  <tbody>\n",
       "    <tr>\n",
       "      <th>0</th>\n",
       "      <td>0</td>\n",
       "      <td>Harry</td>\n",
       "      <td>Gryffindor</td>\n",
       "      <td>red</td>\n",
       "    </tr>\n",
       "    <tr>\n",
       "      <th>1</th>\n",
       "      <td>1</td>\n",
       "      <td>Hermione</td>\n",
       "      <td>Gryffindor</td>\n",
       "      <td>red</td>\n",
       "    </tr>\n",
       "    <tr>\n",
       "      <th>2</th>\n",
       "      <td>2</td>\n",
       "      <td>Ron</td>\n",
       "      <td>Gryffindor</td>\n",
       "      <td>red</td>\n",
       "    </tr>\n",
       "    <tr>\n",
       "      <th>3</th>\n",
       "      <td>3</td>\n",
       "      <td>Drako</td>\n",
       "      <td>Slytherine</td>\n",
       "      <td>green</td>\n",
       "    </tr>\n",
       "    <tr>\n",
       "      <th>4</th>\n",
       "      <td>4</td>\n",
       "      <td>Snape</td>\n",
       "      <td>Slytherine</td>\n",
       "      <td>green</td>\n",
       "    </tr>\n",
       "    <tr>\n",
       "      <th>5</th>\n",
       "      <td>5</td>\n",
       "      <td>Sedric</td>\n",
       "      <td>Hufflepuff</td>\n",
       "      <td>yellow</td>\n",
       "    </tr>\n",
       "    <tr>\n",
       "      <th>6</th>\n",
       "      <td>6</td>\n",
       "      <td>Luna</td>\n",
       "      <td>Ravenclaw</td>\n",
       "      <td>blue</td>\n",
       "    </tr>\n",
       "  </tbody>\n",
       "</table>\n",
       "</div>"
      ],
      "text/plain": [
       "   Unnamed: 0      name       house   color\n",
       "0           0     Harry  Gryffindor     red\n",
       "1           1  Hermione  Gryffindor     red\n",
       "2           2       Ron  Gryffindor     red\n",
       "3           3     Drako  Slytherine   green\n",
       "4           4     Snape  Slytherine   green\n",
       "5           5    Sedric  Hufflepuff  yellow\n",
       "6           6      Luna   Ravenclaw    blue"
      ]
     },
     "execution_count": 146,
     "metadata": {},
     "output_type": "execute_result"
    }
   ],
   "source": [
    "rel_df = pd.read_csv(\"Downloads/node.csv\")\n",
    "rel_df"
   ]
  },
  {
   "cell_type": "code",
   "execution_count": 148,
   "id": "b00095f7",
   "metadata": {},
   "outputs": [
    {
     "data": {
      "text/plain": [
       "[(0, 'red')]"
      ]
     },
     "execution_count": 148,
     "metadata": {},
     "output_type": "execute_result"
    }
   ],
   "source": [
    "edge_list = []\n",
    "for idx, row in rel_df.iterrows():\n",
    "    edge_list.append((row.name, row.color))\n",
    "edge_list[:1]"
   ]
  },
  {
   "cell_type": "code",
   "execution_count": 149,
   "id": "6e2d97e1",
   "metadata": {},
   "outputs": [
    {
     "data": {
      "text/plain": [
       "[('Harry', 'Hermione')]"
      ]
     },
     "execution_count": 149,
     "metadata": {},
     "output_type": "execute_result"
    }
   ],
   "source": [
    "[('Harry', 'Hermione')]"
   ]
  },
  {
   "cell_type": "code",
   "execution_count": 150,
   "id": "d58bd877",
   "metadata": {},
   "outputs": [],
   "source": [
    "G.add_edges_from(edge_list)"
   ]
  },
  {
   "cell_type": "code",
   "execution_count": 190,
   "id": "997b1c11",
   "metadata": {},
   "outputs": [],
   "source": [
    "\n",
    "net = Network(notebook=True, cdn_resources='remote')\n"
   ]
  },
  {
   "cell_type": "code",
   "execution_count": 191,
   "id": "f710c6e4",
   "metadata": {},
   "outputs": [],
   "source": [
    "net.from_nx(G)"
   ]
  },
  {
   "cell_type": "code",
   "execution_count": 198,
   "id": "6b96808a",
   "metadata": {},
   "outputs": [],
   "source": [
    "#net = Network(notebook=True, cdn_resources='in_line')"
   ]
  },
  {
   "cell_type": "code",
   "execution_count": 205,
   "id": "10c829ee",
   "metadata": {},
   "outputs": [
    {
     "data": {
      "text/plain": [
       "True"
      ]
     },
     "execution_count": 205,
     "metadata": {},
     "output_type": "execute_result"
    }
   ],
   "source": [
    "net.save_graph(\"hp_network.html\")\n",
    "#webbrowser.open_new_tab('hp_network.html')"
   ]
  },
  {
   "cell_type": "code",
   "execution_count": 200,
   "id": "2af2b572",
   "metadata": {},
   "outputs": [],
   "source": [
    "import webbrowser\n",
    "import os\n"
   ]
  },
  {
   "cell_type": "code",
   "execution_count": 208,
   "id": "70ac7b78",
   "metadata": {},
   "outputs": [
    {
     "data": {
      "text/plain": [
       "True"
      ]
     },
     "execution_count": 208,
     "metadata": {},
     "output_type": "execute_result"
    }
   ],
   "source": [
    "#HTML(filename=\"hp_network.html\")\n",
    "webbrowser.open_new_tab(\"hp_network.html\")\n",
    "#webbrowser.open_new_tab('hp_network.html')"
   ]
  },
  {
   "cell_type": "code",
   "execution_count": 209,
   "id": "87ea73ce",
   "metadata": {},
   "outputs": [],
   "source": [
    "\n",
    "#os.system('open \"/Applications/Safari.app\" '+ '\"' + os.path.realpath(\"hp_network.html\")+ '\"')"
   ]
  },
  {
   "cell_type": "code",
   "execution_count": 213,
   "id": "e78a3335",
   "metadata": {},
   "outputs": [
    {
     "data": {
      "text/html": [
       "<div>\n",
       "<style scoped>\n",
       "    .dataframe tbody tr th:only-of-type {\n",
       "        vertical-align: middle;\n",
       "    }\n",
       "\n",
       "    .dataframe tbody tr th {\n",
       "        vertical-align: top;\n",
       "    }\n",
       "\n",
       "    .dataframe thead th {\n",
       "        text-align: right;\n",
       "    }\n",
       "</style>\n",
       "<table border=\"1\" class=\"dataframe\">\n",
       "  <thead>\n",
       "    <tr style=\"text-align: right;\">\n",
       "      <th></th>\n",
       "      <th>Unnamed: 0</th>\n",
       "      <th>name</th>\n",
       "      <th>house</th>\n",
       "      <th>color</th>\n",
       "    </tr>\n",
       "  </thead>\n",
       "  <tbody>\n",
       "    <tr>\n",
       "      <th>0</th>\n",
       "      <td>0</td>\n",
       "      <td>Harry</td>\n",
       "      <td>Gryffindor</td>\n",
       "      <td>red</td>\n",
       "    </tr>\n",
       "    <tr>\n",
       "      <th>1</th>\n",
       "      <td>1</td>\n",
       "      <td>Hermione</td>\n",
       "      <td>Gryffindor</td>\n",
       "      <td>red</td>\n",
       "    </tr>\n",
       "    <tr>\n",
       "      <th>2</th>\n",
       "      <td>2</td>\n",
       "      <td>Ron</td>\n",
       "      <td>Gryffindor</td>\n",
       "      <td>red</td>\n",
       "    </tr>\n",
       "    <tr>\n",
       "      <th>3</th>\n",
       "      <td>3</td>\n",
       "      <td>Drako</td>\n",
       "      <td>Slytherine</td>\n",
       "      <td>green</td>\n",
       "    </tr>\n",
       "    <tr>\n",
       "      <th>4</th>\n",
       "      <td>4</td>\n",
       "      <td>Snape</td>\n",
       "      <td>Slytherine</td>\n",
       "      <td>green</td>\n",
       "    </tr>\n",
       "    <tr>\n",
       "      <th>5</th>\n",
       "      <td>5</td>\n",
       "      <td>Sedric</td>\n",
       "      <td>Hufflepuff</td>\n",
       "      <td>yellow</td>\n",
       "    </tr>\n",
       "    <tr>\n",
       "      <th>6</th>\n",
       "      <td>6</td>\n",
       "      <td>Luna</td>\n",
       "      <td>Ravenclaw</td>\n",
       "      <td>blue</td>\n",
       "    </tr>\n",
       "  </tbody>\n",
       "</table>\n",
       "</div>"
      ],
      "text/plain": [
       "   Unnamed: 0      name       house   color\n",
       "0           0     Harry  Gryffindor     red\n",
       "1           1  Hermione  Gryffindor     red\n",
       "2           2       Ron  Gryffindor     red\n",
       "3           3     Drako  Slytherine   green\n",
       "4           4     Snape  Slytherine   green\n",
       "5           5    Sedric  Hufflepuff  yellow\n",
       "6           6      Luna   Ravenclaw    blue"
      ]
     },
     "execution_count": 213,
     "metadata": {},
     "output_type": "execute_result"
    }
   ],
   "source": [
    "votes_data = pd.read_csv('Downloads/node.csv')\n",
    "votes_data"
   ]
  },
  {
   "cell_type": "code",
   "execution_count": 230,
   "id": "d4f8962f",
   "metadata": {},
   "outputs": [
    {
     "data": {
      "image/png": "[encoded data removed]",
      "text/plain": [
       "<Figure size 432x288 with 1 Axes>"
      ]
     },
     "metadata": {},
     "output_type": "display_data"
    }
   ],
   "source": [
    "\n",
    "\n",
    "votes_melted = votes_data.melt(\n",
    "    ['name','house','color'],\n",
    "    var_name = 'name ',value_name='points')    \n",
    "    \n",
    "G = nx.from_pandas_edgelist(votes_melted, \n",
    "                            source='name ',\n",
    "                            target='color',\n",
    "                            edge_attr='points',\n",
    "                            create_using=nx.DiGraph())\n",
    "                            \n",
    "nx.draw_networkx(G)\n"
   ]
  },
  {
   "cell_type": "code",
   "execution_count": null,
   "id": "22f43702",
   "metadata": {},
   "outputs": [],
   "source": []
  }
 ],
 "metadata": {
  "kernelspec": {
   "display_name": "Python 3 (ipykernel)",
   "language": "python",
   "name": "python3"
  },
  "language_info": {
   "codemirror_mode": {
    "name": "ipython",
    "version": 3
   },
   "file_extension": ".py",
   "mimetype": "text/x-python",
   "name": "python",
   "nbconvert_exporter": "python",
   "pygments_lexer": "ipython3",
   "version": "3.8.11"
  }
 },
 "nbformat": 4,
 "nbformat_minor": 5
}
